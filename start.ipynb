{
 "cells": [
  {
   "cell_type": "code",
   "execution_count": null,
   "id": "initial_id",
   "metadata": {
    "collapsed": true
   },
   "outputs": [],
   "source": [
    "# Returning to Working Directory\n",
    "git_repo_name = \"comfy-notebook\"\n",
    "!rm -rf {git_repo_name}\n",
    "# Running Comfy Setup\n",
    "!git clone https://github.com/NQQT/{git_repo_name}.git\n",
    "\n",
    "# Run the Setup\n",
    "%run {git_repo_name}/notebook/setup.ipynb\n",
    "\n",
    "# Loading Comfy UI in Kaggle\n",
    "# using_kaggle_kernel()"
   ]
  }
 ],
 "metadata": {
  "kernelspec": {
   "display_name": "Python 3",
   "language": "python",
   "name": "python3"
  },
  "language_info": {
   "codemirror_mode": {
    "name": "ipython",
    "version": 2
   },
   "file_extension": ".py",
   "mimetype": "text/x-python",
   "name": "python",
   "nbconvert_exporter": "python",
   "pygments_lexer": "ipython2",
   "version": "2.7.6"
  }
 },
 "nbformat": 4,
 "nbformat_minor": 5
}
