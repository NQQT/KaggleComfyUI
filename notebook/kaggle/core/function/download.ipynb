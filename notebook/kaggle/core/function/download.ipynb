{
 "cells": [
  {
   "cell_type": "code",
   "id": "initial_id",
   "metadata": {
    "collapsed": true,
    "ExecuteTime": {
     "end_time": "2025-07-28T04:32:09.694067Z",
     "start_time": "2025-07-28T04:32:09.679313Z"
    }
   },
   "source": [
    "import os\n",
    "\n",
    "# For downloading a model\n",
    "def download_checkpoints(model_name,model_id):\n",
    "    # Constructing the Model URL\n",
    "    model_url = \"https://civitai.com/api/download/models/{}?type=Model&format=SafeTensor&fp=fp16&token={}\".format(model_id,api_token)\n",
    "    %cd /kaggle/working/ComfyUI/models/checkpoints\n",
    "\n",
    "    #Constructing the filename\n",
    "    file_name = model_name + \".safetensors\"\n",
    "    if not os.path.exists(file_name):\n",
    "        # Checking if file name exists or not\n",
    "        get_ipython().system(f'wget -O \"{file_name}\" \"{model_url}\"')\n",
    "\n",
    "    # Clearing the output to show python has been updated\n",
    "    %run {root_dir}/execute/clear-output.ipynb"
   ],
   "outputs": [],
   "execution_count": 1
  },
  {
   "metadata": {},
   "cell_type": "code",
   "outputs": [],
   "execution_count": null,
   "source": [
    "def download_lora(lora_name,lora_id):\n",
    "    # Constructing the Lora URL\n",
    "    model_url = \"https://civitai.com/api/download/models/{}?type=Model&format=SafeTensor&fp=fp16&token={}\".format(lora_id,api_token)\n",
    "\n",
    "    file_name = lora_name + \".safetensors\"\n",
    "    %cd /kaggle/working/ComfyUI/models/loras\n",
    "    if not os.path.exists(file_name):\n",
    "        get_ipython().system(f'wget -O \"{file_name}\" \"{model_url}\"')\n",
    "\n",
    "    # Clearing the output to show python has been updated\n",
    "    %run {root_dir}/execute/clear-output.ipynb"
   ],
   "id": "9bf20d99cac1cfdb"
  }
 ],
 "metadata": {
  "kernelspec": {
   "display_name": "Python 3",
   "language": "python",
   "name": "python3"
  },
  "language_info": {
   "codemirror_mode": {
    "name": "ipython",
    "version": 2
   },
   "file_extension": ".py",
   "mimetype": "text/x-python",
   "name": "python",
   "nbconvert_exporter": "python",
   "pygments_lexer": "ipython2",
   "version": "2.7.6"
  }
 },
 "nbformat": 4,
 "nbformat_minor": 5
}
