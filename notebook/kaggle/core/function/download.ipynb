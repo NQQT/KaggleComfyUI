{
 "cells": [
  {
   "cell_type": "code",
   "execution_count": null,
   "id": "initial_id",
   "metadata": {
    "collapsed": true
   },
   "outputs": [],
   "source": [
    "# For downloading a model\n",
    "def download_checkpoints(model_name,model_id):\n",
    "    # Constructing the Model URL\n",
    "    model_url = \"https://civitai.com/api/download/models/{}?type=Model&format=SafeTensor&fp=fp16&token={}\".format(model_id,api_token)\n",
    "    %cd /kaggle/working/ComfyUI/models/checkpoints\n",
    "    get_ipython().system(f'wget -O \"{model_name}.safetensors\" \"{model_url}\"')"
   ]
  },
  {
   "metadata": {},
   "cell_type": "code",
   "outputs": [],
   "execution_count": null,
   "source": [
    "def download_lora(lora_name,lora_id):\n",
    "    # Constructing the Lora URL\n",
    "    model_url = \"https://civitai.com/api/download/models/{}?type=Model&format=SafeTensor&fp=fp16&token={}\".format(lora_id,api_token)\n",
    "    %cd /kaggle/working/ComfyUI/models/loras\n",
    "    get_ipython().system(f'wget -O \"{lora_name}.safetensors\" \"{model_url}\"')"
   ],
   "id": "9bf20d99cac1cfdb"
  }
 ],
 "metadata": {
  "kernelspec": {
   "display_name": "Python 3",
   "language": "python",
   "name": "python3"
  },
  "language_info": {
   "codemirror_mode": {
    "name": "ipython",
    "version": 2
   },
   "file_extension": ".py",
   "mimetype": "text/x-python",
   "name": "python",
   "nbconvert_exporter": "python",
   "pygments_lexer": "ipython2",
   "version": "2.7.6"
  }
 },
 "nbformat": 4,
 "nbformat_minor": 5
}
