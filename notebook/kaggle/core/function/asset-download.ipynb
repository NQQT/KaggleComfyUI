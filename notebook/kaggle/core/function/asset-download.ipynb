{
 "cells": [
  {
   "cell_type": "code",
   "id": "initial_id",
   "metadata": {
    "collapsed": true,
    "ExecuteTime": {
     "end_time": "2025-07-28T13:34:29.885755Z",
     "start_time": "2025-07-28T13:34:29.877655Z"
    }
   },
   "source": [
    "import os\n",
    "from urllib.parse import urlsplit\n",
    "# For Downloading Assets\n",
    "\n",
    "def extract_filename(url_link):\n",
    "    url_path = urlsplit(url_link)\n",
    "    return os.path.basename(url_path.path)\n",
    "\n",
    "def download_asset(asset_type,asset_url):\n",
    "    # Go to the correct folder\n",
    "    %cd /kaggle/working/ComfyUI/{asset_type}\n",
    "    # Reading the file name\n",
    "    file_name = extract_filename(asset_url)\n",
    "        # for loading files\n",
    "    if not os.path.exists(file_name):\n",
    "        get_ipython().system(f'wget -O \"{file_name}\" \"{asset_url}\"')\n",
    "    return"
   ],
   "outputs": [
    {
     "name": "stdout",
     "output_type": "stream",
     "text": [
      "sigclip_vision_patch14_384.safetensors\n"
     ]
    }
   ],
   "execution_count": 4
  },
  {
   "metadata": {},
   "cell_type": "code",
   "outputs": [],
   "execution_count": null,
   "source": "",
   "id": "669445b349ac7a63"
  }
 ],
 "metadata": {
  "kernelspec": {
   "display_name": "Python 3",
   "language": "python",
   "name": "python3"
  },
  "language_info": {
   "codemirror_mode": {
    "name": "ipython",
    "version": 2
   },
   "file_extension": ".py",
   "mimetype": "text/x-python",
   "name": "python",
   "nbconvert_exporter": "python",
   "pygments_lexer": "ipython2",
   "version": "2.7.6"
  }
 },
 "nbformat": 4,
 "nbformat_minor": 5
}
