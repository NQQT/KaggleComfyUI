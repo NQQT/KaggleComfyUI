{
 "cells": [
  {
   "cell_type": "code",
   "id": "initial_id",
   "metadata": {
    "collapsed": true,
    "ExecuteTime": {
     "end_time": "2025-07-28T13:34:29.885755Z",
     "start_time": "2025-07-28T13:34:29.877655Z"
    }
   },
   "source": [
    "import os\n",
    "from urllib.parse import urlsplit\n",
    "# For Downloading Assets\n",
    "\n",
    "def extract_filename(url_link):\n",
    "    url_path = urlsplit(url_link)\n",
    "    return os.path.basename(url_path.path)\n",
    "\n",
    "def download_asset(asset_type,asset_url):\n",
    "    # Go to the correct folder\n",
    "    %cd /kaggle/working/ComfyUI/models/{asset_type}\n",
    "    # Reading the file name\n",
    "    file_name = extract_filename(asset_url)\n",
    "        # for loading files\n",
    "    if not os.path.exists(file_name):\n",
    "        get_ipython().system(f'wget -O \"{file_name}\" \"{asset_url}\"')\n",
    "    return\n",
    "    # Clearing the output to show python has been updated\n",
    "    %run {root_dir}/execute/clear-output.ipynb\n",
    "\n",
    "def git_custom_node(git_url):\n",
    "    # This is designed to set up frame pack. Warning, high requirement\n",
    "    %cd {working_dir}/ComfyUI/custom_nodes\n",
    "\n",
    "    # Reading the Folder Name\n",
    "    folder_name = extract_filename(git_url)\n",
    "\n",
    "    # Remove whatever version it is\n",
    "    !rm -rf {folder_name}\n",
    "\n",
    "    !git clone {git_url}\n",
    "\n",
    "    # Go into the folder\n",
    "    %cd {folder_name}\n",
    "    # Do we need to checkout specific version?\n",
    "\n",
    "    # Install the requirement (if it exists)\n",
    "    if os.path.exists(\"requirements.txt\"):\n",
    "        !{pip} install -r requirements.txt\n",
    "\n",
    "    # Clearing the output to show python has been updated\n",
    "    %run {root_dir}/execute/clear-output.ipynb\n"
   ],
   "outputs": [
    {
     "name": "stdout",
     "output_type": "stream",
     "text": [
      "sigclip_vision_patch14_384.safetensors\n"
     ]
    }
   ],
   "execution_count": 4
  }
 ],
 "metadata": {
  "kernelspec": {
   "display_name": "Python 3",
   "language": "python",
   "name": "python3"
  },
  "language_info": {
   "codemirror_mode": {
    "name": "ipython",
    "version": 2
   },
   "file_extension": ".py",
   "mimetype": "text/x-python",
   "name": "python",
   "nbconvert_exporter": "python",
   "pygments_lexer": "ipython2",
   "version": "2.7.6"
  }
 },
 "nbformat": 4,
 "nbformat_minor": 5
}
