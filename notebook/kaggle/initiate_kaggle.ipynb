{
 "cells": [
  {
   "cell_type": "code",
   "execution_count": null,
   "id": "initial_id",
   "metadata": {
    "collapsed": true
   },
   "outputs": [],
   "source": [
    "# Pointing to the correct root_dir path\n",
    "root_dir = \"/kaggle/working/comfy-notebook/notebook/kaggle\"\n",
    "\n",
    "# For updating Python to the latest\n",
    "%run {root_dir}/install/python3.ipynb\n",
    "# Installing File manager\n",
    "%run {root_dir}/setup/file-manager.ipynb\n",
    "# For installing comfyUI\n",
    "%run {root_dir}/setup/pinggy-tunnel.ipynb\n",
    "# For installing comfyUI\n",
    "%run {root_dir}/setup/comfy-ui.ipynb\n",
    "\n",
    "# Installing necessary core function\n",
    "%run {root_dir}/core/install-core.ipynb"
   ]
  }
 ],
 "metadata": {
  "kernelspec": {
   "display_name": "Python 3",
   "language": "python",
   "name": "python3"
  },
  "language_info": {
   "codemirror_mode": {
    "name": "ipython",
    "version": 2
   },
   "file_extension": ".py",
   "mimetype": "text/x-python",
   "name": "python",
   "nbconvert_exporter": "python",
   "pygments_lexer": "ipython2",
   "version": "2.7.6"
  }
 },
 "nbformat": 4,
 "nbformat_minor": 5
}
