{
 "cells": [
  {
   "cell_type": "code",
   "execution_count": null,
   "id": "initial_id",
   "metadata": {
    "collapsed": true
   },
   "outputs": [],
   "source": [
    "git_custom_node(\"https://github.com/kijai/ComfyUI-KJNodes\")\n",
    "git_custom_node(\"https://github.com/Kosinkadink/ComfyUI-VideoHelperSuite\")\n",
    "git_custom_node(\"https://github.com/cubiq/ComfyUI_essentials\")\n",
    "git_custom_node(\"https://github.com/kijai/ComfyUI-FramePackWrapper\")"
   ]
  },
  {
   "metadata": {},
   "cell_type": "code",
   "source": [
    "# Necessary Clip Vision\n",
    "download_asset(\"clip_vision\",\"https://huggingface.co/Comfy-Org/sigclip_vision_384/resolve/main/sigclip_vision_patch14_384.safetensors?download=true\")\n",
    "\n",
    "# Vae\n",
    "download_asset(\"vae\",\"https://huggingface.co/Comfy-Org/HunyuanVideo_repackaged/resolve/main/split_files/vae/hunyuan_video_vae_bf16.safetensors?download=true\")\n",
    "\n",
    "# Text Encoder\n",
    "download_asset(\"text_encoders\",\"https://huggingface.co/Comfy-Org/HunyuanVideo_repackaged/resolve/main/split_files/text_encoders/clip_l.safetensors?download=true\")\n",
    "\n",
    "download_asset(\"text_encoders\",\"https://huggingface.co/Comfy-Org/HunyuanVideo_repackaged/resolve/main/split_files/text_encoders/llava_llama3_fp16.safetensors?download=true\")"
   ],
   "id": "380d6e2950ccdc0a",
   "outputs": [],
   "execution_count": null
  },
  {
   "metadata": {},
   "cell_type": "code",
   "outputs": [],
   "execution_count": null,
   "source": "download_asset(\"diffusion_models\",\"https://huggingface.co/Kijai/HunyuanVideo_comfy/blob/main/FramePackI2V_HY_fp8_e4m3fn.safetensors\")",
   "id": "ef56a4b022da3801"
  }
 ],
 "metadata": {
  "kernelspec": {
   "display_name": "Python 3",
   "language": "python",
   "name": "python3"
  },
  "language_info": {
   "codemirror_mode": {
    "name": "ipython",
    "version": 2
   },
   "file_extension": ".py",
   "mimetype": "text/x-python",
   "name": "python",
   "nbconvert_exporter": "python",
   "pygments_lexer": "ipython2",
   "version": "2.7.6"
  }
 },
 "nbformat": 4,
 "nbformat_minor": 5
}
