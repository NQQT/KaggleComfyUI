{
 "cells": [
  {
   "cell_type": "code",
   "execution_count": null,
   "id": "initial_id",
   "metadata": {
    "collapsed": true
   },
   "outputs": [],
   "source": [
    "# Start to install Comfy UI and its Manager\n",
    "%cd {working_dir}\n",
    "!git clone https://github.com/comfyanonymous/ComfyUI.git\n",
    "%cd ComfyUI\n",
    "# Old Commit. March Version\n",
    "# !git checkout 7fc3ccdcc2fb1f20c4b7dd4aca374db952fd66df\n",
    "# New Commit 28 July 2025\n",
    "!git checkout 78672d0ee6d20d8269f324474643e5cc00f1c348\n",
    "# Install the necessary requirements\n",
    "!{pip} install -r requirements.txt\n",
    "\n",
    "!mkdir /tmp/models\n",
    "!mkdir /tmp/models/checkpoints\n",
    "!mkdir /tmp/models/diffusion_models\n",
    "!mkdir /tmp/models/clip\n",
    "!mkdir /tmp/models/clip_vision\n",
    "!mkdir /tmp/models/ipadapter\n",
    "!mkdir /tmp/models/text_encoders\n",
    "!mkdir /tmp/models/vae\n",
    "!mkdir /tmp/models/unet\n",
    "\n",
    "# Require the ip adapter folder\n",
    "!mkdir {working_dir}/ComfyUI/models/ipadapter\n",
    "\n",
    "# Remove the following two lines to keep models in permanent storage\n",
    "!rm -rf {working_dir}/ComfyUI/models/checkpoints\n",
    "!rm -rf {working_dir}/ComfyUI/models/diffusion_models\n",
    "!rm -rf {working_dir}/ComfyUI/models/clip\n",
    "!rm -rf {working_dir}/ComfyUI/models/clip_vision\n",
    "!rm -rf {working_dir}/ComfyUI/models/ipadapter\n",
    "!rm -rf {working_dir}/ComfyUI/models/text_encoders\n",
    "!rm -rf {working_dir}/ComfyUI/models/vae\n",
    "!rm -rf {working_dir}/ComfyUI/models/unet\n",
    "\n",
    "!ln -s /tmp/models/checkpoints {working_dir}/ComfyUI/models/checkpoints\n",
    "!ln -s /tmp/models/diffusion_models {working_dir}/ComfyUI/models/diffusion_models\n",
    "!ln -s /tmp/models/clip {working_dir}/ComfyUI/models/clip\n",
    "!ln -s /tmp/models/clip_vision {working_dir}/ComfyUI/models/clip_vision\n",
    "!ln -s /tmp/models/ipadapter {working_dir}/ComfyUI/models/ipadapter\n",
    "!ln -s /tmp/models/text_encoders {working_dir}/ComfyUI/models/text_encoders\n",
    "!ln -s /tmp/models/vae {working_dir}/ComfyUI/models/vae\n",
    "!ln -s /tmp/models/unet {working_dir}/ComfyUI/models/unet\n",
    "\n",
    "# Install the node manager\n",
    "%cd {working_dir}/ComfyUI/custom_nodes\n",
    "!git clone https://github.com/ltdrdata/ComfyUI-Manager.git\n",
    "%cd ComfyUI-Manager\n",
    "# Install the necessary requirements\n",
    "!{pip} install -r requirements.txt\n",
    "\n",
    "# Second GPU offload\n",
    "%cd {working_dir}/ComfyUI/custom_nodes\n",
    "!wget https://gist.githubusercontent.com/city96/30743dfdfe129b331b5676a79c3a8a39/raw/ecb4f6f5202c20ea723186c93da308212ba04cfb/ComfyBootlegOffload.py"
   ]
  },
  {
   "metadata": {},
   "cell_type": "code",
   "outputs": [],
   "execution_count": null,
   "source": [
    "# Clearing the output to show python has been updated\n",
    "%run {root_dir}/execute/clear-output.ipynb\n",
    "!echo \"Installed Core ComfyUI Repository\""
   ],
   "id": "eed97077ff25a330"
  },
  {
   "metadata": {},
   "cell_type": "code",
   "outputs": [],
   "execution_count": null,
   "source": [
    "# Installing Custom Nodes\n",
    "# Download Assets From Github Repository\n",
    "def download_custom_nodes(node_name):\n",
    "    %cd {working_dir}/ComfyUI/custom_nodes\n",
    "    # Remove whatever version it is\n",
    "    !rm -rf {node_name}\n",
    "    # Updated with new version\n",
    "    !git clone https://github.com/NQQT/{node_name}.git\n",
    "\n",
    "    # Clearing the output to show python has been updated\n",
    "    %run {root_dir}/execute/clear-output.ipynb\n",
    "\n",
    "# Installing Custom Node\n",
    "download_custom_nodes(\"LocalSavingNodeComfyUI\")"
   ],
   "id": "865ca30fa36a2eab"
  },
  {
   "metadata": {},
   "cell_type": "code",
   "outputs": [],
   "execution_count": null,
   "source": [
    "# Clearing the output to show python has been updated\n",
    "%run {root_dir}/execute/clear-output.ipynb\n",
    "!echo \"Loaded Comfy UI Successfully\""
   ],
   "id": "3abcdc1548c22c08"
  }
 ],
 "metadata": {
  "kernelspec": {
   "display_name": "Python 3",
   "language": "python",
   "name": "python3"
  },
  "language_info": {
   "codemirror_mode": {
    "name": "ipython",
    "version": 2
   },
   "file_extension": ".py",
   "mimetype": "text/x-python",
   "name": "python",
   "nbconvert_exporter": "python",
   "pygments_lexer": "ipython2",
   "version": "2.7.6"
  }
 },
 "nbformat": 4,
 "nbformat_minor": 5
}
