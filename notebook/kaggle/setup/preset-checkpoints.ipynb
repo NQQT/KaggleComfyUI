{
 "cells": [
  {
   "cell_type": "code",
   "execution_count": null,
   "id": "initial_id",
   "metadata": {
    "collapsed": true
   },
   "outputs": [],
   "source": [
    "# For Pony Realism\n",
    "def load_pony_realism():\n",
    "    # The required checkpoint\n",
    "    download_checkpoints(\"PonyRealism\",\"1920896\")\n",
    "\n",
    "    # For Illustrious\n",
    "    download_lora(\"AgeSlider\",\"448977\")\n",
    "    download_lora(\"CInMouth\",\"1909950\")\n",
    "    download_lora(\"RealisticC\",\"1629360\")"
   ]
  }
 ],
 "metadata": {
  "kernelspec": {
   "display_name": "Python 3",
   "language": "python",
   "name": "python3"
  },
  "language_info": {
   "codemirror_mode": {
    "name": "ipython",
    "version": 2
   },
   "file_extension": ".py",
   "mimetype": "text/x-python",
   "name": "python",
   "nbconvert_exporter": "python",
   "pygments_lexer": "ipython2",
   "version": "2.7.6"
  }
 },
 "nbformat": 4,
 "nbformat_minor": 5
}
