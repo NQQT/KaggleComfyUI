{
 "cells": [
  {
   "cell_type": "code",
   "id": "initial_id",
   "metadata": {
    "collapsed": true
   },
   "source": [
    "import os\n",
    "from IPython.display import clear_output\n",
    "# Set the api token\n",
    "api_token = \"813701a486b32b80542dd5606dd8efdf\""
   ],
   "outputs": [],
   "execution_count": null
  },
  {
   "metadata": {
    "collapsed": true
   },
   "cell_type": "code",
   "outputs": [],
   "execution_count": null,
   "source": [
    "# Fetching Civitai Lora\n",
    "def civitai_lora_fetch(lora_name,lora_id):\n",
    "    # Constructing the Lora URL\n",
    "    model_url = \"https://civitai.com/api/download/models/{}?type=Model&format=SafeTensor&fp=fp16&token={}\".format(lora_id,api_token)\n",
    "    # Fetching Asset\n",
    "    asset_fetch(\"loras\",model_url,lora_name + \".safetensors\")"
   ],
   "id": "a761c1bc9ba84b8d"
  },
  {
   "metadata": {},
   "cell_type": "code",
   "outputs": [],
   "execution_count": null,
   "source": [
    "# For downloading a model\n",
    "def download_checkpoints(model_name,model_id):\n",
    "    # Constructing the Model URL\n",
    "    model_url = \"https://civitai.com/api/download/models/{}?type=Model&format=SafeTensor&fp=fp16&token={}\".format(model_id,api_token)\n",
    "\n",
    "    asset_fetch(\"checkpoints\",model_url,model_name + \".safetensors\")"
   ],
   "id": "8696dca1b4c03864"
  }
 ],
 "metadata": {
  "kernelspec": {
   "display_name": "Python 3",
   "language": "python",
   "name": "python3"
  },
  "language_info": {
   "codemirror_mode": {
    "name": "ipython",
    "version": 2
   },
   "file_extension": ".py",
   "mimetype": "text/x-python",
   "name": "python",
   "nbconvert_exporter": "python",
   "pygments_lexer": "ipython2",
   "version": "2.7.6"
  }
 },
 "nbformat": 4,
 "nbformat_minor": 5
}
