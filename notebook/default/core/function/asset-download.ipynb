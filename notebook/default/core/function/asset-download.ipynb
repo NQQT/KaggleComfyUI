{
 "cells": [
  {
   "cell_type": "code",
   "execution_count": null,
   "id": "initial_id",
   "metadata": {
    "collapsed": true
   },
   "outputs": [],
   "source": [
    "import os\n",
    "from urllib.parse import urlsplit\n",
    "from IPython.display import clear_output\n",
    "# For Downloading Assets\n",
    "\n",
    "# This is to extract the file name out\n",
    "def extract_filename(url_link):\n",
    "    url_path = urlsplit(url_link)\n",
    "    return os.path.basename(url_path.path)\n",
    "\n",
    "# Downloading the asset\n",
    "def download_asset(asset_type,asset_url):\n",
    "    # Go to the correct folder\n",
    "    %cd {working_dir}/ComfyUI/models/{asset_type}\n",
    "    # Reading the file name\n",
    "    file_name = extract_filename(asset_url)\n",
    "        # for loading files\n",
    "    if not os.path.exists(file_name):\n",
    "        get_ipython().system(f'wget -O \"{file_name}\" \"{asset_url}\"')\n",
    "        return\n",
    "    # Clearing the output to show python has been updated\n",
    "    clear_output()\n",
    "\n",
    "def git_custom_node(git_url):\n",
    "    # This is designed to set up frame pack. Warning, high requirement\n",
    "    %cd {working_dir}/ComfyUI/custom_nodes\n",
    "\n",
    "    # Reading the Folder Name\n",
    "    folder_name = extract_filename(git_url)\n",
    "\n",
    "    # Remove whatever version it is\n",
    "    !rm -rf {folder_name}\n",
    "\n",
    "    !git clone {git_url}\n",
    "\n",
    "    # Go into the folder\n",
    "    %cd {folder_name}\n",
    "    # Do we need to checkout specific version?\n",
    "\n",
    "    # Install the requirement (if it exists)\n",
    "    if os.path.exists(\"requirements.txt\"):\n",
    "        !pip install -r requirements.txt\n",
    "\n",
    "    # Clearing the output to show python has been updated\n",
    "    clear_output()\n",
    "\n",
    "api_token = \"813701a486b32b80542dd5606dd8efdf\"\n",
    "# For downloading a model\n",
    "def download_checkpoints(model_name,model_id):\n",
    "    # Constructing the Model URL\n",
    "    model_url = \"https://civitai.com/api/download/models/{}?type=Model&format=SafeTensor&fp=fp16&token={}\".format(model_id,api_token)\n",
    "    %cd {working_dir}/ComfyUI/models/checkpoints\n",
    "\n",
    "    #Constructing the filename\n",
    "    file_name = model_name + \".safetensors\"\n",
    "    if not os.path.exists(file_name):\n",
    "        # Checking if file name exists or not\n",
    "        get_ipython().system(f'wget -O \"{file_name}\" \"{model_url}\"')\n",
    "\n",
    "    # Clearing the output to show python has been updated\n",
    "    clear_output()\n",
    "\n"
   ]
  }
 ],
 "metadata": {
  "kernelspec": {
   "display_name": "Python 3",
   "language": "python",
   "name": "python3"
  },
  "language_info": {
   "codemirror_mode": {
    "name": "ipython",
    "version": 2
   },
   "file_extension": ".py",
   "mimetype": "text/x-python",
   "name": "python",
   "nbconvert_exporter": "python",
   "pygments_lexer": "ipython2",
   "version": "2.7.6"
  }
 },
 "nbformat": 4,
 "nbformat_minor": 5
}
