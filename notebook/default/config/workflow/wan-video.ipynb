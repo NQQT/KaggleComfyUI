{
 "cells": [
  {
   "cell_type": "code",
   "execution_count": null,
   "id": "initial_id",
   "metadata": {
    "collapsed": true
   },
   "outputs": [],
   "source": [
    "from IPython.display import clear_output\n",
    "\n",
    "# This is to set up wan video diffusion\n",
    "def setup_wan_video():\n",
    "    !echo \"Installing required python packages\"\n",
    "    !{pip} install diffusers\n",
    "    !{pip} install imageio-ffmpeg\n",
    "    clear_output()\n",
    "    !echo \"Downloading required assets\"\n",
    "\n",
    "    git_custom_node(\"https://github.com/Kosinkadink/ComfyUI-VideoHelperSuite\",\"330bce6c3c0d47ebdedcc0348d9ab355707b7523\")\n",
    "    git_custom_node(\"https://github.com/kijai/ComfyUI-KJNodes\",\"a6b867b63a29ca48ddb15c589e17a9f2d8530d57\")\n",
    "    git_custom_node(\"https://github.com/yolain/ComfyUI-Easy-Use\",\"717092a3ceb51c474b5b3f77fc188979f0db9d67\")\n",
    "    git_custom_node(\"https://github.com/rgthree/rgthree-comfy\",\"944d5353a1b0a668f40844018c3dc956b95a67d7\")\n",
    "\n",
    "    # Required Diffusion model\n",
    "    asset_fetch(\"diffusion_models\",\"https://huggingface.co/Comfy-Org/Wan_2.2_ComfyUI_Repackaged/resolve/main/split_files/diffusion_models/wan2.2_t2v_high_noise_14B_fp8_scaled.safetensors\")\n",
    "\n",
    "    asset_fetch(\"diffusion_models\",\"https://huggingface.co/Comfy-Org/Wan_2.2_ComfyUI_Repackaged/resolve/main/split_files/diffusion_models/wan2.2_t2v_low_noise_14B_fp8_scaled.safetensors\")\n",
    "\n",
    "    asset_fetch(\"text_encoders\",\"https://huggingface.co/Comfy-Org/Wan_2.2_ComfyUI_Repackaged/resolve/main/split_files/text_encoders/umt5_xxl_fp8_e4m3fn_scaled.safetensors\")\n",
    "\n",
    "    asset_fetch(\"vae\",\"https://huggingface.co/Comfy-Org/Wan_2.2_ComfyUI_Repackaged/resolve/main/split_files/vae/wan_2.1_vae.safetensors\")\n",
    "\n",
    "\n",
    "    asset_fetch(\"loras\",\"https://huggingface.co/Kijai/WanVideo_comfy/resolve/main/FastWan/FastWan_T2V_14B_480p_lora_rank_128_bf16.safetensors\")\n",
    "\n",
    "    asset_fetch(\"loras\",\"https://huggingface.co/Kijai/WanVideo_comfy/resolve/main/Lightx2v/lightx2v_T2V_14B_cfg_step_distill_v2_lora_rank32_bf16.safetensors\")"
   ]
  }
 ],
 "metadata": {
  "kernelspec": {
   "display_name": "Python 3",
   "language": "python",
   "name": "python3"
  },
  "language_info": {
   "codemirror_mode": {
    "name": "ipython",
    "version": 2
   },
   "file_extension": ".py",
   "mimetype": "text/x-python",
   "name": "python",
   "nbconvert_exporter": "python",
   "pygments_lexer": "ipython2",
   "version": "2.7.6"
  }
 },
 "nbformat": 4,
 "nbformat_minor": 5
}
