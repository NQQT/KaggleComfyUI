{
 "cells": [
  {
   "cell_type": "code",
   "execution_count": null,
   "id": "initial_id",
   "metadata": {
    "collapsed": true
   },
   "outputs": [],
   "source": [
    "# Pinggy script\n",
    "def start_pinggy_tunnel(args = \"\"):\n",
    "    # Saving from Github Wanda Web\n",
    "    !wget https://raw.githubusercontent.com/wandaweb/jupyter-webui-tunneling/main/pinggy.py -O {working_dir}/pinggy.py\n",
    "    # For Running ComfyUI\n",
    "    %cd {working_dir}\n",
    "\n",
    "    # Running Command\n",
    "    !python pinggy.py --command=\"{python} {working_dir}/ComfyUI/main.py {args}\" --port=8188"
   ]
  },
  {
   "metadata": {},
   "cell_type": "code",
   "outputs": [],
   "execution_count": null,
   "source": [
    "import subprocess\n",
    "import threading\n",
    "import time\n",
    "import socket\n",
    "import urllib.request\n",
    "from tqdm.auto import tqdm\n",
    "\n",
    "def iframe_thread(port):\n",
    "    # Waiting for ComfyUI to start at port\n",
    "    while True:\n",
    "        time.sleep(0.5)\n",
    "        sock = socket.socket(socket.AF_INET, socket.SOCK_STREAM)\n",
    "        result = sock.connect_ex(('127.0.0.1', port))\n",
    "        if result == 0:\n",
    "            break\n",
    "        sock.close()\n",
    "\n",
    "    # Comfy UI has started\n",
    "    print(\"\\n\")\n",
    "    print(\"ComfyUI finished loading! Launching Local Tunnel\\n\")\n",
    "    print(\"if it gets stuck here, then Local Tunnel is having issues)\\n\")\n",
    "\n",
    "    # This is to get the IP Address to access local tunnel\n",
    "    kernel_ip = urllib.request.urlopen('https://ipv4.icanhazip.com').read().decode('utf8').strip(\"\\n\")\n",
    "\n",
    "    # Starting Local Tunnel\n",
    "    lt_process = subprocess.Popen([\"lt\", \"--port\", f\"{port}\"], stdout=subprocess.PIPE, stderr=subprocess.PIPE, text=True)\n",
    "\n",
    "    print(\"LocalTunnel Password:\",kernel_ip)\n",
    "    # Printing out Local Tunnel Processes (including the local tunnel ip address)\n",
    "    for line in lt_process.stdout:\n",
    "        print(line, end='')\n",
    "\n",
    "\n",
    "# Use this to start local tunnel\n",
    "def start_local_tunnel():\n",
    "    # Try and install local tunnel\n",
    "    !npm install -g localtunnel\n",
    "\n",
    "    # Start the main.py process\n",
    "    main_process = run_comfy_ui_background()\n",
    "\n",
    "    # Start the iframe thread\n",
    "    iframe_thread_obj = threading.Thread(target=iframe_thread, daemon=True, args=(8188,))\n",
    "    iframe_thread_obj.start()\n",
    "\n",
    "    print(\"Starting ComfyUI Local Tunnel Background Process\")\n",
    "\n",
    "    # Create a thread to wait for the iframe thread to complete\n",
    "    def wait_for_iframe():\n",
    "        iframe_thread_obj.join()\n",
    "\n",
    "    threading.Thread(target=wait_for_iframe, daemon=True).start()"
   ],
   "id": "834b2853198d4aaf"
  }
 ],
 "metadata": {
  "kernelspec": {
   "display_name": "Python 3",
   "language": "python",
   "name": "python3"
  },
  "language_info": {
   "codemirror_mode": {
    "name": "ipython",
    "version": 2
   },
   "file_extension": ".py",
   "mimetype": "text/x-python",
   "name": "python",
   "nbconvert_exporter": "python",
   "pygments_lexer": "ipython2",
   "version": "2.7.6"
  }
 },
 "nbformat": 4,
 "nbformat_minor": 5
}
