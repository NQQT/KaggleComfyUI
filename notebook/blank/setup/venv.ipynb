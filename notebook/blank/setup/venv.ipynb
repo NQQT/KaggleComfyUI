{
 "cells": [
  {
   "cell_type": "code",
   "execution_count": null,
   "id": "initial_id",
   "metadata": {
    "collapsed": true
   },
   "outputs": [],
   "source": [
    "update = False\n",
    "\n",
    "import os\n",
    "import stat\n",
    "#!rm -rf /kaggle/working/venv\n",
    "working_dir = os.getcwd()\n",
    "python = working_dir + '/venv/bin/python'\n",
    "pip = working_dir + '/venv/bin/pip'\n",
    "\n",
    "def find_bin_folders(folder_path):\n",
    "    bin_folders = []\n",
    "    for root, dirs, files in os.walk(folder_path):\n",
    "        for dir_name in dirs:\n",
    "            if dir_name == 'bin':\n",
    "                bin_folders.append(os.path.join(root, dir_name))\n",
    "    return bin_folders\n",
    "\n",
    "def install_libraries(home_dir, python, pip):\n",
    "  %cd {home_dir}\n",
    "  !{pip} install torch torchvision torchaudio --index-url https://download.pytorch.org/whl/cu121\n",
    "  !{pip} install tensorflow[and-cuda]\n",
    "  # TODO: download req.txt\n",
    "  !wget https://q4j3.c11.e2-5.dev/downloads/req.txt\n",
    "  !{pip} install -r {home_dir}/req.txt\n",
    "\n",
    "!pip install virtualenv\n",
    "\n",
    "if not os.path.exists(f'{working_dir}/venv'):\n",
    "    print('installing venv')\n",
    "    os.chdir(working_dir)\n",
    "    get_ipython().system(f'cd {working_dir}')\n",
    "\n",
    "    get_ipython().system('virtualenv venv -p $(which python3.10)')\n",
    "    install_libraries(working_dir, python, pip)\n",
    "else:\n",
    "    bin_folders = find_bin_folders('/kaggle/working/venv')\n",
    "    if bin_folders:\n",
    "      print(\"Found 'bin' folders:\")\n",
    "      for bin_folder in bin_folders:\n",
    "        print(bin_folder)\n",
    "        for filename in os.listdir(bin_folder):\n",
    "            file_path = os.path.join(bin_folder, filename)\n",
    "            if os.path.isfile(file_path):\n",
    "                current_permissions = os.stat(file_path).st_mode\n",
    "                 # Add execute permissions for the user, group, and others\n",
    "                os.chmod(file_path, current_permissions | stat.S_IXUSR | stat.S_IXGRP | stat.S_IXOTH)\n",
    "\n",
    "if not os.path.exists(f'{working_dir}/venv/bin/python3.10'):\n",
    "    get_ipython().system('cp /usr/bin/python3.10 /kaggle/working/venv/bin/')\n",
    "\n",
    "# Creating Symbolic Links, so that python and python3 points to venv environment\n",
    "!ln -s /kaggle/working/venv/bin/python3.10 /kaggle/working/venv/bin/python\n",
    "!ln -s /kaggle/working/venv/bin/python3.10 /kaggle/working/venv/bin/python3"
   ]
  }
 ],
 "metadata": {
  "kernelspec": {
   "display_name": "Python 3",
   "language": "python",
   "name": "python3"
  },
  "language_info": {
   "codemirror_mode": {
    "name": "ipython",
    "version": 2
   },
   "file_extension": ".py",
   "mimetype": "text/x-python",
   "name": "python",
   "nbconvert_exporter": "python",
   "pygments_lexer": "ipython2",
   "version": "2.7.6"
  }
 },
 "nbformat": 4,
 "nbformat_minor": 5
}
