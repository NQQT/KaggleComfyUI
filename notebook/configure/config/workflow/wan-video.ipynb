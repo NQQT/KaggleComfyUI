{
 "cells": [
  {
   "cell_type": "code",
   "execution_count": null,
   "id": "initial_id",
   "metadata": {
    "collapsed": true
   },
   "outputs": [],
   "source": [
    "from IPython.display import clear_output\n",
    "\n",
    "# This is to set up wan video diffusion\n",
    "def setup_wan_video():\n",
    "    !echo \"Installing required python packages\"\n",
    "    !{pip} install diffusers\n",
    "    !{pip} install imageio-ffmpeg\n",
    "    clear_output()\n",
    "    !echo \"Downloading required assets\"\n",
    "\n",
    "    # Required Diffusion model\n",
    "    asset_fetch(\"diffusion_models\",\"https://huggingface.co/Comfy-Org/Wan_2.2_ComfyUI_Repackaged/resolve/main/split_files/diffusion_models/wan2.2_t2v_high_noise_14B_fp8_scaled.safetensors\")\n",
    "\n",
    "    asset_fetch(\"diffusion_models\",\"https://huggingface.co/Comfy-Org/Wan_2.2_ComfyUI_Repackaged/resolve/main/split_files/diffusion_models/wan2.2_t2v_low_noise_14B_fp8_scaled.safetensors\")\n",
    "\n",
    "    asset_fetch(\"text_encoders\",\"https://huggingface.co/Comfy-Org/Wan_2.2_ComfyUI_Repackaged/resolve/main/split_files/text_encoders/umt5_xxl_fp8_e4m3fn_scaled.safetensors\")\n",
    "\n",
    "    asset_fetch(\"vae\",\"https://huggingface.co/Comfy-Org/Wan_2.2_ComfyUI_Repackaged/resolve/main/split_files/vae/wan_2.1_vae.safetensors\")\n",
    "\n",
    "\n",
    "    asset_fetch(\"loras\",\"https://huggingface.co/Kijai/WanVideo_comfy/resolve/main/FastWan/FastWan_T2V_14B_480p_lora_rank_128_bf16.safetensors\")\n",
    "\n",
    "    asset_fetch(\"loras\",\"https://huggingface.co/Kijai/WanVideo_comfy/resolve/main/Lightx2v/lightx2v_T2V_14B_cfg_step_distill_v2_lora_rank32_bf16.safetensors\")"
   ]
  },
  {
   "metadata": {},
   "cell_type": "code",
   "outputs": [],
   "execution_count": null,
   "source": [
    "# Design to load on kaggle completely\n",
    "def setup_wan_text_2_video_kaggle():\n",
    "    !echo \"Installing required python packages\"\n",
    "    !{pip} install diffusers\n",
    "    !{pip} install imageio-ffmpeg\n",
    "    clear_output()\n",
    "    !echo \"Downloading required assets\"\n",
    "\n",
    "    # Fetching Assets\n",
    "    asset_fetch(\"diffusion_models\",\"https://huggingface.co/bullerwins/Wan2.2-T2V-A14B-GGUF/resolve/main/wan2.2_t2v_high_noise_14B_Q5_K_M.gguf\")\n",
    "    asset_fetch(\"diffusion_models\",\"https://huggingface.co/bullerwins/Wan2.2-T2V-A14B-GGUF/resolve/main/wan2.2_t2v_low_noise_14B_Q5_K_M.gguf\")\n",
    "\n",
    "    asset_fetch(\"vae\",\"https://huggingface.co/Comfy-Org/Wan_2.2_ComfyUI_Repackaged/resolve/main/split_files/vae/wan_2.1_vae.safetensors\")\n",
    "\n",
    "    asset_fetch(\"text_encoders\",\"https://huggingface.co/Comfy-Org/Wan_2.2_ComfyUI_Repackaged/resolve/main/split_files/text_encoders/umt5_xxl_fp8_e4m3fn_scaled.safetensors\")\n",
    "\n",
    "    asset_fetch(\"loras\",\"https://huggingface.co/Kijai/WanVideo_comfy/resolve/main/FastWan/FastWan_T2V_14B_480p_lora_rank_128_bf16.safetensors\")\n",
    "    asset_fetch(\"loras\",\"https://huggingface.co/Kijai/WanVideo_comfy/resolve/main/Lightx2v/lightx2v_T2V_14B_cfg_step_distill_v2_lora_rank32_bf16.safetensors\")\n",
    "\n",
    "    # Downloading Necessary Loras\n",
    "    civitai_lora_fetch(\"money_shot_t2v_high_noise\",\"2077123\")\n",
    "    civitai_lora_fetch(\"money_shot_t2v_low_noise\",\"2077119\")\n",
    "    civitai_lora_fetch(\"blow_job\",\"2021242\")\n",
    "    # Doesn't seem to have wan or not\n",
    "    civitai_lora_fetch(\"thick_load\",\"1860691\")\n"
   ],
   "id": "2e82c5c761e63a6c"
  },
  {
   "metadata": {},
   "cell_type": "code",
   "outputs": [],
   "execution_count": null,
   "source": [
    "# Design to load on kaggle completely\n",
    "def setup_wan_img_2_video_kaggle():\n",
    "    !echo \"Installing required python packages\"\n",
    "    !{pip} install diffusers\n",
    "    !{pip} install imageio-ffmpeg\n",
    "    clear_output()\n",
    "    !echo \"Downloading required assets\"\n",
    "\n",
    "    # Fetching Assets\n",
    "    asset_fetch(\"diffusion_models\",\"https://huggingface.co/bullerwins/Wan2.2-I2V-A14B-GGUF/resolve/main/wan2.2_i2v_high_noise_14B_Q5_K_M.gguf\")\n",
    "    asset_fetch(\"diffusion_models\",\"https://huggingface.co/bullerwins/Wan2.2-I2V-A14B-GGUF/resolve/main/wan2.2_i2v_low_noise_14B_Q5_K_M.gguf\")\n",
    "\n",
    "    asset_fetch(\"vae\",\"https://huggingface.co/Comfy-Org/Wan_2.2_ComfyUI_Repackaged/resolve/main/split_files/vae/wan_2.1_vae.safetensors\")\n",
    "\n",
    "    asset_fetch(\"text_encoders\",\"https://huggingface.co/Comfy-Org/Wan_2.2_ComfyUI_Repackaged/resolve/main/split_files/text_encoders/umt5_xxl_fp8_e4m3fn_scaled.safetensors\")\n",
    "\n",
    "    asset_fetch(\"loras\",\"https://huggingface.co/Kijai/WanVideo_comfy/resolve/main/FastWan/FastWan_T2V_14B_480p_lora_rank_128_bf16.safetensors\")\n",
    "    asset_fetch(\"loras\",\"https://huggingface.co/Kijai/WanVideo_comfy/resolve/main/Lightx2v/lightx2v_I2V_14B_480p_cfg_step_distill_rank64_bf16.safetensors\")\n",
    "\n",
    "\n",
    "    # Lora to use\n",
    "    civitai_lora_fetch(\"blow_job\",\"2021249\")\n",
    "    # Doesn't seem to have wan or not\n",
    "    civitai_lora_fetch(\"thick_load\",\"1860691\")\n"
   ],
   "id": "eafbcebca84aabf3"
  }
 ],
 "metadata": {
  "kernelspec": {
   "display_name": "Python 3",
   "language": "python",
   "name": "python3"
  },
  "language_info": {
   "codemirror_mode": {
    "name": "ipython",
    "version": 2
   },
   "file_extension": ".py",
   "mimetype": "text/x-python",
   "name": "python",
   "nbconvert_exporter": "python",
   "pygments_lexer": "ipython2",
   "version": "2.7.6"
  }
 },
 "nbformat": 4,
 "nbformat_minor": 5
}
