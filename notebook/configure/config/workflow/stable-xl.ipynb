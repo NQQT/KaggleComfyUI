{
 "cells": [
  {
   "cell_type": "code",
   "execution_count": null,
   "id": "initial_id",
   "metadata": {
    "collapsed": true
   },
   "outputs": [],
   "source": [
    "# For simply loading stable diffusion\n",
    "\n",
    "def setup_poly_realism():\n",
    "    # Downloading PonyRealism\n",
    "    civitai_checkpoint_fetch(\"PonyRealism\",\"1920896\")\n",
    "        # For Illustrious\n",
    "    civitai_lora_fetch(\"AgeSlider\",\"448977\")\n",
    "    civitai_lora_fetch(\"CInMouth\",\"1909950\")\n",
    "    civitai_lora_fetch(\"RealisticC\",\"1629360\")\n",
    "\n",
    "\n",
    "def setup_jb_mix():\n",
    "    asset_fetch(\"checkpoints\",\"https://civitai.com/api/download/models/1966530?type=Model&format=SafeTensor&size=pruned&fp=fp16\",\"jib_mix_realistic_v18.safetensors\")"
   ]
  }
 ],
 "metadata": {
  "kernelspec": {
   "display_name": "Python 3",
   "language": "python",
   "name": "python3"
  },
  "language_info": {
   "codemirror_mode": {
    "name": "ipython",
    "version": 2
   },
   "file_extension": ".py",
   "mimetype": "text/x-python",
   "name": "python",
   "nbconvert_exporter": "python",
   "pygments_lexer": "ipython2",
   "version": "2.7.6"
  }
 },
 "nbformat": 4,
 "nbformat_minor": 5
}
