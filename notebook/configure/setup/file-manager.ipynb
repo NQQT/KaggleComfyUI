{
 "cells": [
  {
   "cell_type": "code",
   "id": "initial_id",
   "metadata": {
    "collapsed": true,
    "ExecuteTime": {
     "end_time": "2025-08-03T12:58:05.248395Z",
     "start_time": "2025-08-03T12:58:05.190163Z"
    }
   },
   "source": [
    "# This is design to start a file manager via tunneling\n",
    "\n",
    "# This is temporarily designed for kaggle only\n",
    "def start_file_manager():\n",
    "    %cd /kaggle\n",
    "    !wget https://github.com/filebrowser/filebrowser/releases/download/v2.27.0/linux-amd64-filebrowser.tar.gz\n",
    "    !tar xvfz linux-amd64-filebrowser.tar.gz\n",
    "    !chmod a+x /kaggle/filebrowser\n",
    "    !/kaggle/filebrowser config init\n",
    "    !/kaggle/filebrowser config set --auth.method=noauth > /dev/null\n",
    "    !/kaggle/filebrowser config set --branding.theme=dark > /dev/null\n",
    "    !/kaggle/filebrowser users add admin admin\n",
    "    !/kaggle/filebrowser config export \"/kaggle/config.json\"\n",
    "\n",
    "    %cd /kaggle\n",
    "    !chmod a+x /kaggle/filebrowser\n",
    "\n",
    "    !python /kaggle/working/pinggy.py --command='/kaggle/filebrowser -c \"/kaggle/working/config.json\"' --port=8080"
   ],
   "outputs": [],
   "execution_count": 1
  }
 ],
 "metadata": {
  "kernelspec": {
   "display_name": "Python 3",
   "language": "python",
   "name": "python3"
  },
  "language_info": {
   "codemirror_mode": {
    "name": "ipython",
    "version": 2
   },
   "file_extension": ".py",
   "mimetype": "text/x-python",
   "name": "python",
   "nbconvert_exporter": "python",
   "pygments_lexer": "ipython2",
   "version": "2.7.6"
  }
 },
 "nbformat": 4,
 "nbformat_minor": 5
}
