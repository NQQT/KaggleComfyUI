{
 "cells": [
  {
   "cell_type": "code",
   "execution_count": null,
   "id": "initial_id",
   "metadata": {
    "collapsed": true
   },
   "outputs": [],
   "source": [
    "import os\n",
    "checkpoints_location =  '/kaggle/working/ComfyUI/models/'\n",
    "api_token = \"813701a486b32b80542dd5606dd8efdf\"\n",
    "\n",
    "# For downloading a model\n",
    "def download_checkpoints(model_name,model_id):\n",
    "    # Constructing the Model URL\n",
    "    model_url = \"https://civitai.com/api/download/models/{}?type=Model&format=SafeTensor&fp=fp16&token={}\".format(model_id,api_token)\n",
    "    %cd {checkpoints_location}/checkpoints\n",
    "\n",
    "    #Constructing the filename\n",
    "    file_name = model_name + \".safetensors\"\n",
    "    if not os.path.exists(file_name):\n",
    "        # Checking if file name exists or not\n",
    "        get_ipython().system(f'wget -O \"{file_name}\" \"{model_url}\"')\n",
    "\n",
    "def download_lora(lora_name,lora_id):\n",
    "    # Constructing the Lora URL\n",
    "    model_url = \"https://civitai.com/api/download/models/{}?type=Model&format=SafeTensor&fp=fp16&token={}\".format(lora_id,api_token)\n",
    "\n",
    "    file_name = lora_name + \".safetensors\"\n",
    "    %cd {checkpoints_location}/loras\n",
    "    if not os.path.exists(file_name):\n",
    "        get_ipython().system(f'wget -O \"{file_name}\" \"{model_url}\"')\n",
    "\n",
    "\n",
    "#### Install a model in permanent storage\n",
    "# Make sure Persistence is set to \"Files only\" or \"Variables and Files\"\n",
    "# download_checkpoints(\"CyberRealisticCatalyst\",\"1899516\")\n",
    "# download_checkpoints(\"RealismYogiV5\",\"1883050\")\n",
    "# download_checkpoints(\"PonyRealism\",\"1920896\")\n",
    "\n",
    "download_checkpoints(\"RealismIllustriousYogiV5\",\"1906686\")\n",
    "download_lora(\"AgeSlider\",\"448977\")"
   ]
  }
 ],
 "metadata": {
  "kernelspec": {
   "display_name": "Python 3",
   "language": "python",
   "name": "python3"
  },
  "language_info": {
   "codemirror_mode": {
    "name": "ipython",
    "version": 2
   },
   "file_extension": ".py",
   "mimetype": "text/x-python",
   "name": "python",
   "nbconvert_exporter": "python",
   "pygments_lexer": "ipython2",
   "version": "2.7.6"
  }
 },
 "nbformat": 4,
 "nbformat_minor": 5
}
