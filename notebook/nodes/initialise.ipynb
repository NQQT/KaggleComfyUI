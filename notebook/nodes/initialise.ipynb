{
 "cells": [
  {
   "cell_type": "code",
   "execution_count": null,
   "id": "initial_id",
   "metadata": {
    "collapsed": true
   },
   "outputs": [],
   "source": [
    "# For Creating Symbolic Link between the nodes\n",
    "\n",
    "# Setting up the notebook directory\n",
    "nodes_dir = f'{working_dir}/{git_repo_name}/notebook/nodes'"
   ]
  },
  {
   "metadata": {},
   "cell_type": "code",
   "outputs": [],
   "execution_count": null,
   "source": [
    "import os\n",
    "# Creating symbolic link to all the required nodes\n",
    "def install_custom_nodes():\n",
    "    # Getting the list of nodes within the folder\n",
    "    node_list = [f for f in os.listdir(nodes_dir) if os.path.isdir(os.path.join(nodes_dir,f))]\n",
    "\n",
    "    # Scanning through the folder\n",
    "    for node_folder in node_list:\n",
    "        # Creating a folder at node_folder (if it doesn't exist)\n",
    "        !mkdir {working_dir}/ComfyUI/custom_nodes/{node_folder}\n",
    "        # Creating a symbolic link\n",
    "        !ls -s {nodes_dir}/{node_folder} {working_dir}/ComfyUI/custom_nodes/{node_folder}"
   ],
   "id": "1e7d03fffc3d0bb5"
  }
 ],
 "metadata": {
  "kernelspec": {
   "display_name": "Python 3",
   "language": "python",
   "name": "python3"
  },
  "language_info": {
   "codemirror_mode": {
    "name": "ipython",
    "version": 2
   },
   "file_extension": ".py",
   "mimetype": "text/x-python",
   "name": "python",
   "nbconvert_exporter": "python",
   "pygments_lexer": "ipython2",
   "version": "2.7.6"
  }
 },
 "nbformat": 4,
 "nbformat_minor": 5
}
