{
 "cells": [
  {
   "cell_type": "code",
   "execution_count": null,
   "id": "initial_id",
   "metadata": {
    "collapsed": true
   },
   "outputs": [],
   "source": [
    "# Running installation script\n",
    "%run {working_dir}/{git_repo_name}/notebook/default/install.ipynb\n",
    "\n",
    "# Using Kaggle Kernel. Execute this function\n",
    "def using_kaggle_kernel():\n",
    "    # Defining Global Working Directory\n",
    "    global working_dir, python, pip\n",
    "    # Setting th working directory\n",
    "    working_dir = \"/kaggle/working\"\n",
    "    #!rm -rf /kaggle/working/venv\n",
    "    python = f'{working_dir}/venv/bin/python'\n",
    "    pip = f'{working_dir}/venv/bin/pip'\n",
    "\n",
    "    # installing comfy_ui\n",
    "    install_comfy_ui()\n",
    "\n",
    "def using_lightning_kernel():\n",
    "    # Defining Global Working Directory\n",
    "    global working_dir, python, pip\n",
    "    # Setting th working directory\n",
    "    # This is always the working directory\n",
    "    working_dir = '/teamspace/studios/this_studio'"
   ]
  }
 ],
 "metadata": {
  "kernelspec": {
   "display_name": "Python 3",
   "language": "python",
   "name": "python3"
  },
  "language_info": {
   "codemirror_mode": {
    "name": "ipython",
    "version": 2
   },
   "file_extension": ".py",
   "mimetype": "text/x-python",
   "name": "python",
   "nbconvert_exporter": "python",
   "pygments_lexer": "ipython2",
   "version": "2.7.6"
  }
 },
 "nbformat": 4,
 "nbformat_minor": 5
}
