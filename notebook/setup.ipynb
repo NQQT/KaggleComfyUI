{
 "cells": [
  {
   "cell_type": "code",
   "execution_count": null,
   "id": "initial_id",
   "metadata": {
    "collapsed": true
   },
   "outputs": [],
   "source": [
    "import os\n",
    "import sys\n",
    "# For you to define the customer kernel. That is, where to install\n",
    "def using_custom_kernel(home_dir = os.getcwd(),python_root = sys.executable):\n",
    "    # Defining Global Working Directory\n",
    "    global working_dir, python, pip\n",
    "    # Definning the working directory\n",
    "    working_dir = home_dir\n",
    "    python = python_root\n",
    "    pip = f\"{python} -m pip\"\n",
    "\n",
    "    # Running installation script\n",
    "    %run {working_dir}/{git_repo_name}/notebook/default/install.ipynb\n",
    "\n",
    "    # installing comfy_ui\n",
    "    install_comfy_ui()\n",
    "\n",
    "# Using Kaggle Kernel. Execute this function\n",
    "def using_kaggle_kernel():\n",
    "    # Defining Global Working Directory\n",
    "    global working_dir, python, pip\n",
    "    # Setting th working directory\n",
    "    working_dir = \"/kaggle/working\"\n",
    "    #!rm -rf /kaggle/working/venv\n",
    "    python = f'{working_dir}/venv/bin/python'\n",
    "    pip = f'{working_dir}/venv/bin/pip'\n",
    "\n",
    "    # Running installation script\n",
    "    %run {working_dir}/{git_repo_name}/notebook/default/install.ipynb\n",
    "\n",
    "    # Running installation script\n",
    "    %run {working_dir}/{git_repo_name}/notebook/default/setup/python-venv.ipynb\n",
    "\n",
    "    # installing comfy_ui\n",
    "    install_comfy_ui()\n",
    "\n",
    "def using_lightning_kernel():\n",
    "    # Defining Global Working Directory\n",
    "    global working_dir, python, pip\n",
    "    installed = \"/home/zeus/miniconda3/envs/cloudspace/bin\"\n",
    "    # Setting th working directory\n",
    "    # This is always the working directory\n",
    "    working_dir = '/teamspace/studios/this_studio'\n",
    "    python = f\"{installed}/python\"\n",
    "    pip = f\"{installed}/pip\"\n",
    "\n",
    "    # Running installation script\n",
    "    %run {working_dir}/{git_repo_name}/notebook/default/install.ipynb\n",
    "    # installing comfy_ui\n",
    "    install_comfy_ui()\n",
    "\n",
    "    # Panda should also be upgraded\n",
    "    !{pip} install --upgrade pandas\n"
   ]
  }
 ],
 "metadata": {
  "kernelspec": {
   "display_name": "Python 3",
   "language": "python",
   "name": "python3"
  },
  "language_info": {
   "codemirror_mode": {
    "name": "ipython",
    "version": 2
   },
   "file_extension": ".py",
   "mimetype": "text/x-python",
   "name": "python",
   "nbconvert_exporter": "python",
   "pygments_lexer": "ipython2",
   "version": "2.7.6"
  }
 },
 "nbformat": 4,
 "nbformat_minor": 5
}
