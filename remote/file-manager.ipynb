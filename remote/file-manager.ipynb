{
 "cells": [
  {
   "cell_type": "code",
   "id": "initial_id",
   "metadata": {
    "collapsed": true
   },
   "source": [
    "%cd /kaggle\n",
    "!wget https://github.com/filebrowser/filebrowser/releases/download/v2.27.0/linux-amd64-filebrowser.tar.gz\n",
    "!tar xvfz linux-amd64-filebrowser.tar.gz\n",
    "!chmod a+x /kaggle/filebrowser\n",
    "!/kaggle/filebrowser config init\n",
    "!/kaggle/filebrowser config set --auth.method=noauth > /dev/null\n",
    "!/kaggle/filebrowser config set --branding.theme=dark > /dev/null\n",
    "!/kaggle/filebrowser users add admin admin\n",
    "!/kaggle/filebrowser config export \"/kaggle/config.json\""
   ],
   "outputs": [],
   "execution_count": null
  },
  {
   "metadata": {},
   "cell_type": "code",
   "outputs": [],
   "execution_count": null,
   "source": [
    "%cd /kaggle\n",
    "!chmod a+x /kaggle/filebrowser\n",
    "\n",
    "!python /kaggle/working/pinggy.py --command='/kaggle/filebrowser -c \"/kaggle/working/config.json\"' --port=8080"
   ],
   "id": "c9b5b6757324fcd9"
  }
 ],
 "metadata": {
  "kernelspec": {
   "display_name": "Python 3",
   "language": "python",
   "name": "python3"
  },
  "language_info": {
   "codemirror_mode": {
    "name": "ipython",
    "version": 2
   },
   "file_extension": ".py",
   "mimetype": "text/x-python",
   "name": "python",
   "nbconvert_exporter": "python",
   "pygments_lexer": "ipython2",
   "version": "2.7.6"
  }
 },
 "nbformat": 4,
 "nbformat_minor": 5
}
