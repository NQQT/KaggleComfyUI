{
 "cells": [
  {
   "cell_type": "code",
   "id": "initial_id",
   "metadata": {
    "collapsed": true,
    "ExecuteTime": {
     "end_time": "2025-07-31T14:11:36.774645Z",
     "start_time": "2025-07-31T14:11:36.024578Z"
    }
   },
   "source": [
    "# Configuration Values\n",
    "api_token = \"813701a486b32b80542dd5606dd8efdf\"\n",
    "working_dir = \"/kaggle/working\"\n",
    "\n",
    "# Configuration\n",
    "install_ip_adapter = False\n",
    "\n",
    "# Remove\n",
    "%cd {working_dir}\n",
    "!rm -rf comfy-notebook\n",
    "# Running Comfy Setup\n",
    "!git clone https://github.com/NQQT/comfy-notebook.git\n",
    "\n",
    "# Initiate ComfyUI and all required essentials\n",
    "%run comfy-notebook/notebook/kaggle/initiate_kaggle.ipynb\n",
    "\n",
    "# Downloading PonyRealism\n",
    "download_checkpoints(\"PonyRealism\",\"1920896\")\n",
    "\n",
    "# Installing Assets\n",
    "# install_ip_adapter()\n",
    "\n",
    "# Start Configuration\n",
    "# %run {root_dir}/setup/preset/wan-t2v-gguf.ipynb\n",
    "# %run {root_dir}/setup/preset/illustrious-yogi.ipynb\n",
    "\n",
    "# Starting Tunneling Option\n",
    "# start_pinggy_tunnel()\n",
    "start_local_tunnel()"
   ],
   "outputs": [
    {
     "name": "stdout",
     "output_type": "stream",
     "text": [
      "[WinError 3] The system cannot find the path specified: '/kaggle/working'\n",
      "D:\\development\\python\\KaggleComfyUI\n"
     ]
    },
    {
     "name": "stderr",
     "output_type": "stream",
     "text": [
      "'rm' is not recognized as an internal or external command,\n",
      "operable program or batch file.\n",
      "fatal: destination path 'comfy-notebook' already exists and is not an empty directory.\n"
     ]
    },
    {
     "ename": "Exception",
     "evalue": "File `'/kaggle/working/comfy-notebook/notebook/kaggle/setup/python3.ipynb'` not found.",
     "output_type": "error",
     "traceback": [
      "\u001B[31m---------------------------------------------------------------------------\u001B[39m",
      "\u001B[31mOSError\u001B[39m                                   Traceback (most recent call last)",
      "\u001B[36mFile \u001B[39m\u001B[32mD:\\development\\python\\KaggleComfyUI\\.venv\\Lib\\site-packages\\IPython\\core\\magics\\execution.py:728\u001B[39m, in \u001B[36mExecutionMagics.run\u001B[39m\u001B[34m(self, parameter_s, runner, file_finder)\u001B[39m\n\u001B[32m    727\u001B[39m     fpath = arg_lst[\u001B[32m0\u001B[39m]\n\u001B[32m--> \u001B[39m\u001B[32m728\u001B[39m     filename = \u001B[43mfile_finder\u001B[49m\u001B[43m(\u001B[49m\u001B[43mfpath\u001B[49m\u001B[43m)\u001B[49m\n\u001B[32m    729\u001B[39m \u001B[38;5;28;01mexcept\u001B[39;00m \u001B[38;5;167;01mIndexError\u001B[39;00m \u001B[38;5;28;01mas\u001B[39;00m e:\n",
      "\u001B[36mFile \u001B[39m\u001B[32mD:\\development\\python\\KaggleComfyUI\\.venv\\Lib\\site-packages\\IPython\\utils\\path.py:90\u001B[39m, in \u001B[36mget_py_filename\u001B[39m\u001B[34m(name)\u001B[39m\n\u001B[32m     89\u001B[39m         \u001B[38;5;28;01mreturn\u001B[39;00m py_name\n\u001B[32m---> \u001B[39m\u001B[32m90\u001B[39m \u001B[38;5;28;01mraise\u001B[39;00m \u001B[38;5;167;01mIOError\u001B[39;00m(\u001B[33m\"\u001B[39m\u001B[33mFile `\u001B[39m\u001B[38;5;132;01m%r\u001B[39;00m\u001B[33m` not found.\u001B[39m\u001B[33m\"\u001B[39m % name)\n",
      "\u001B[31mOSError\u001B[39m: File `'/kaggle/working/comfy-notebook/notebook/kaggle/setup/python3.ipynb'` not found.",
      "\nThe above exception was the direct cause of the following exception:\n",
      "\u001B[31mException\u001B[39m                                 Traceback (most recent call last)",
      "\u001B[36mFile \u001B[39m\u001B[32m~\\AppData\\Local\\Temp\\ipykernel_27824\\2152758806.py:5\u001B[39m\n\u001B[32m      2\u001B[39m root_dir = \u001B[33m\"\u001B[39m\u001B[33m/kaggle/working/comfy-notebook/notebook/kaggle\u001B[39m\u001B[33m\"\u001B[39m\n\u001B[32m      4\u001B[39m \u001B[38;5;66;03m# For updating Python to the latest\u001B[39;00m\n\u001B[32m----> \u001B[39m\u001B[32m5\u001B[39m \u001B[43mget_ipython\u001B[49m\u001B[43m(\u001B[49m\u001B[43m)\u001B[49m\u001B[43m.\u001B[49m\u001B[43mrun_line_magic\u001B[49m\u001B[43m(\u001B[49m\u001B[33;43m'\u001B[39;49m\u001B[33;43mrun\u001B[39;49m\u001B[33;43m'\u001B[39;49m\u001B[43m,\u001B[49m\u001B[43m \u001B[49m\u001B[33;43m'\u001B[39;49m\u001B[38;5;132;43;01m{root_dir}\u001B[39;49;00m\u001B[33;43m/setup/python3.ipynb\u001B[39;49m\u001B[33;43m'\u001B[39;49m\u001B[43m)\u001B[49m\n\u001B[32m      6\u001B[39m \u001B[38;5;66;03m# Installing File manager\u001B[39;00m\n\u001B[32m      7\u001B[39m get_ipython().run_line_magic(\u001B[33m'\u001B[39m\u001B[33mrun\u001B[39m\u001B[33m'\u001B[39m, \u001B[33m'\u001B[39m\u001B[38;5;132;01m{root_dir}\u001B[39;00m\u001B[33m/setup/file-manager.ipynb\u001B[39m\u001B[33m'\u001B[39m)\n",
      "\u001B[36mFile \u001B[39m\u001B[32mD:\\development\\python\\KaggleComfyUI\\.venv\\Lib\\site-packages\\IPython\\core\\interactiveshell.py:2504\u001B[39m, in \u001B[36mInteractiveShell.run_line_magic\u001B[39m\u001B[34m(self, magic_name, line, _stack_depth)\u001B[39m\n\u001B[32m   2502\u001B[39m     kwargs[\u001B[33m'\u001B[39m\u001B[33mlocal_ns\u001B[39m\u001B[33m'\u001B[39m] = \u001B[38;5;28mself\u001B[39m.get_local_scope(stack_depth)\n\u001B[32m   2503\u001B[39m \u001B[38;5;28;01mwith\u001B[39;00m \u001B[38;5;28mself\u001B[39m.builtin_trap:\n\u001B[32m-> \u001B[39m\u001B[32m2504\u001B[39m     result = \u001B[43mfn\u001B[49m\u001B[43m(\u001B[49m\u001B[43m*\u001B[49m\u001B[43margs\u001B[49m\u001B[43m,\u001B[49m\u001B[43m \u001B[49m\u001B[43m*\u001B[49m\u001B[43m*\u001B[49m\u001B[43mkwargs\u001B[49m\u001B[43m)\u001B[49m\n\u001B[32m   2506\u001B[39m \u001B[38;5;66;03m# The code below prevents the output from being displayed\u001B[39;00m\n\u001B[32m   2507\u001B[39m \u001B[38;5;66;03m# when using magics with decorator @output_can_be_silenced\u001B[39;00m\n\u001B[32m   2508\u001B[39m \u001B[38;5;66;03m# when the last Python token in the expression is a ';'.\u001B[39;00m\n\u001B[32m   2509\u001B[39m \u001B[38;5;28;01mif\u001B[39;00m \u001B[38;5;28mgetattr\u001B[39m(fn, magic.MAGIC_OUTPUT_CAN_BE_SILENCED, \u001B[38;5;28;01mFalse\u001B[39;00m):\n",
      "\u001B[36mFile \u001B[39m\u001B[32mD:\\development\\python\\KaggleComfyUI\\.venv\\Lib\\site-packages\\IPython\\core\\magics\\execution.py:739\u001B[39m, in \u001B[36mExecutionMagics.run\u001B[39m\u001B[34m(self, parameter_s, runner, file_finder)\u001B[39m\n\u001B[32m    737\u001B[39m     \u001B[38;5;28;01mif\u001B[39;00m os.name == \u001B[33m'\u001B[39m\u001B[33mnt\u001B[39m\u001B[33m'\u001B[39m \u001B[38;5;129;01mand\u001B[39;00m re.match(\u001B[33mr\u001B[39m\u001B[33m\"\u001B[39m\u001B[33m^\u001B[39m\u001B[33m'\u001B[39m\u001B[33m.*\u001B[39m\u001B[33m'\u001B[39m\u001B[33m$\u001B[39m\u001B[33m\"\u001B[39m,fpath):\n\u001B[32m    738\u001B[39m         warn(\u001B[33m'\u001B[39m\u001B[33mFor Windows, use double quotes to wrap a filename: \u001B[39m\u001B[38;5;132;01m%r\u001B[39;00m\u001B[33mun \u001B[39m\u001B[33m\"\u001B[39m\u001B[33mmypath\u001B[39m\u001B[38;5;130;01m\\\\\u001B[39;00m\u001B[33mmyfile.py\u001B[39m\u001B[33m\"\u001B[39m\u001B[33m'\u001B[39m)\n\u001B[32m--> \u001B[39m\u001B[32m739\u001B[39m     \u001B[38;5;28;01mraise\u001B[39;00m \u001B[38;5;167;01mException\u001B[39;00m(msg) \u001B[38;5;28;01mfrom\u001B[39;00m\u001B[38;5;250m \u001B[39m\u001B[34;01me\u001B[39;00m\n\u001B[32m    740\u001B[39m \u001B[38;5;28;01mexcept\u001B[39;00m \u001B[38;5;167;01mTypeError\u001B[39;00m:\n\u001B[32m    741\u001B[39m     \u001B[38;5;28;01mif\u001B[39;00m fpath \u001B[38;5;129;01min\u001B[39;00m sys.meta_path:\n",
      "\u001B[31mException\u001B[39m: File `'/kaggle/working/comfy-notebook/notebook/kaggle/setup/python3.ipynb'` not found."
     ]
    },
    {
     "ename": "Exception",
     "evalue": "File `'/kaggle/working/comfy-notebook/notebook/kaggle/setup/python3.ipynb'` not found.",
     "output_type": "error",
     "traceback": [
      "\u001B[31m---------------------------------------------------------------------------\u001B[39m",
      "\u001B[31mOSError\u001B[39m                                   Traceback (most recent call last)",
      "\u001B[36mFile \u001B[39m\u001B[32mD:\\development\\python\\KaggleComfyUI\\.venv\\Lib\\site-packages\\IPython\\core\\magics\\execution.py:728\u001B[39m, in \u001B[36mExecutionMagics.run\u001B[39m\u001B[34m(self, parameter_s, runner, file_finder)\u001B[39m\n\u001B[32m    727\u001B[39m     fpath = arg_lst[\u001B[32m0\u001B[39m]\n\u001B[32m--> \u001B[39m\u001B[32m728\u001B[39m     filename = \u001B[43mfile_finder\u001B[49m\u001B[43m(\u001B[49m\u001B[43mfpath\u001B[49m\u001B[43m)\u001B[49m\n\u001B[32m    729\u001B[39m \u001B[38;5;28;01mexcept\u001B[39;00m \u001B[38;5;167;01mIndexError\u001B[39;00m \u001B[38;5;28;01mas\u001B[39;00m e:\n",
      "\u001B[36mFile \u001B[39m\u001B[32mD:\\development\\python\\KaggleComfyUI\\.venv\\Lib\\site-packages\\IPython\\utils\\path.py:90\u001B[39m, in \u001B[36mget_py_filename\u001B[39m\u001B[34m(name)\u001B[39m\n\u001B[32m     89\u001B[39m         \u001B[38;5;28;01mreturn\u001B[39;00m py_name\n\u001B[32m---> \u001B[39m\u001B[32m90\u001B[39m \u001B[38;5;28;01mraise\u001B[39;00m \u001B[38;5;167;01mIOError\u001B[39;00m(\u001B[33m\"\u001B[39m\u001B[33mFile `\u001B[39m\u001B[38;5;132;01m%r\u001B[39;00m\u001B[33m` not found.\u001B[39m\u001B[33m\"\u001B[39m % name)\n",
      "\u001B[31mOSError\u001B[39m: File `'/kaggle/working/comfy-notebook/notebook/kaggle/setup/python3.ipynb'` not found.",
      "\nThe above exception was the direct cause of the following exception:\n",
      "\u001B[31mException\u001B[39m                                 Traceback (most recent call last)",
      "\u001B[36mCell\u001B[39m\u001B[36m \u001B[39m\u001B[32mIn[4]\u001B[39m\u001B[32m, line 15\u001B[39m\n\u001B[32m     12\u001B[39m get_ipython().system(\u001B[33m'\u001B[39m\u001B[33mgit clone https://github.com/NQQT/comfy-notebook.git\u001B[39m\u001B[33m'\u001B[39m)\n\u001B[32m     14\u001B[39m \u001B[38;5;66;03m# Initiate ComfyUI and all required essentials\u001B[39;00m\n\u001B[32m---> \u001B[39m\u001B[32m15\u001B[39m \u001B[43mget_ipython\u001B[49m\u001B[43m(\u001B[49m\u001B[43m)\u001B[49m\u001B[43m.\u001B[49m\u001B[43mrun_line_magic\u001B[49m\u001B[43m(\u001B[49m\u001B[33;43m'\u001B[39;49m\u001B[33;43mrun\u001B[39;49m\u001B[33;43m'\u001B[39;49m\u001B[43m,\u001B[49m\u001B[43m \u001B[49m\u001B[33;43m'\u001B[39;49m\u001B[33;43mcomfy-notebook/notebook/kaggle/initiate_kaggle.ipynb\u001B[39;49m\u001B[33;43m'\u001B[39;49m\u001B[43m)\u001B[49m\n\u001B[32m     17\u001B[39m \u001B[38;5;66;03m# Installing Assets\u001B[39;00m\n\u001B[32m     18\u001B[39m \n\u001B[32m     19\u001B[39m \u001B[38;5;66;03m# Start Configuration\u001B[39;00m\n\u001B[32m   (...)\u001B[39m\u001B[32m     24\u001B[39m \u001B[38;5;66;03m# start_pinggy_tunnel()\u001B[39;00m\n\u001B[32m     25\u001B[39m \u001B[38;5;66;03m# start_local_tunnel()\u001B[39;00m\n",
      "\u001B[36mFile \u001B[39m\u001B[32mD:\\development\\python\\KaggleComfyUI\\.venv\\Lib\\site-packages\\IPython\\core\\interactiveshell.py:2504\u001B[39m, in \u001B[36mInteractiveShell.run_line_magic\u001B[39m\u001B[34m(self, magic_name, line, _stack_depth)\u001B[39m\n\u001B[32m   2502\u001B[39m     kwargs[\u001B[33m'\u001B[39m\u001B[33mlocal_ns\u001B[39m\u001B[33m'\u001B[39m] = \u001B[38;5;28mself\u001B[39m.get_local_scope(stack_depth)\n\u001B[32m   2503\u001B[39m \u001B[38;5;28;01mwith\u001B[39;00m \u001B[38;5;28mself\u001B[39m.builtin_trap:\n\u001B[32m-> \u001B[39m\u001B[32m2504\u001B[39m     result = \u001B[43mfn\u001B[49m\u001B[43m(\u001B[49m\u001B[43m*\u001B[49m\u001B[43margs\u001B[49m\u001B[43m,\u001B[49m\u001B[43m \u001B[49m\u001B[43m*\u001B[49m\u001B[43m*\u001B[49m\u001B[43mkwargs\u001B[49m\u001B[43m)\u001B[49m\n\u001B[32m   2506\u001B[39m \u001B[38;5;66;03m# The code below prevents the output from being displayed\u001B[39;00m\n\u001B[32m   2507\u001B[39m \u001B[38;5;66;03m# when using magics with decorator @output_can_be_silenced\u001B[39;00m\n\u001B[32m   2508\u001B[39m \u001B[38;5;66;03m# when the last Python token in the expression is a ';'.\u001B[39;00m\n\u001B[32m   2509\u001B[39m \u001B[38;5;28;01mif\u001B[39;00m \u001B[38;5;28mgetattr\u001B[39m(fn, magic.MAGIC_OUTPUT_CAN_BE_SILENCED, \u001B[38;5;28;01mFalse\u001B[39;00m):\n",
      "\u001B[36mFile \u001B[39m\u001B[32mD:\\development\\python\\KaggleComfyUI\\.venv\\Lib\\site-packages\\IPython\\core\\magics\\execution.py:749\u001B[39m, in \u001B[36mExecutionMagics.run\u001B[39m\u001B[34m(self, parameter_s, runner, file_finder)\u001B[39m\n\u001B[32m    747\u001B[39m     \u001B[38;5;28;01mwith\u001B[39;00m preserve_keys(\u001B[38;5;28mself\u001B[39m.shell.user_ns, \u001B[33m'\u001B[39m\u001B[33m__file__\u001B[39m\u001B[33m'\u001B[39m):\n\u001B[32m    748\u001B[39m         \u001B[38;5;28mself\u001B[39m.shell.user_ns[\u001B[33m'\u001B[39m\u001B[33m__file__\u001B[39m\u001B[33m'\u001B[39m] = filename\n\u001B[32m--> \u001B[39m\u001B[32m749\u001B[39m         \u001B[38;5;28;43mself\u001B[39;49m\u001B[43m.\u001B[49m\u001B[43mshell\u001B[49m\u001B[43m.\u001B[49m\u001B[43msafe_execfile_ipy\u001B[49m\u001B[43m(\u001B[49m\u001B[43mfilename\u001B[49m\u001B[43m,\u001B[49m\u001B[43m \u001B[49m\u001B[43mraise_exceptions\u001B[49m\u001B[43m=\u001B[49m\u001B[38;5;28;43;01mTrue\u001B[39;49;00m\u001B[43m)\u001B[49m\n\u001B[32m    750\u001B[39m     \u001B[38;5;28;01mreturn\u001B[39;00m\n\u001B[32m    752\u001B[39m \u001B[38;5;66;03m# Control the response to exit() calls made by the script being run\u001B[39;00m\n",
      "\u001B[36mFile \u001B[39m\u001B[32mD:\\development\\python\\KaggleComfyUI\\.venv\\Lib\\site-packages\\IPython\\core\\interactiveshell.py:2995\u001B[39m, in \u001B[36mInteractiveShell.safe_execfile_ipy\u001B[39m\u001B[34m(self, fname, shell_futures, raise_exceptions)\u001B[39m\n\u001B[32m   2993\u001B[39m result = \u001B[38;5;28mself\u001B[39m.run_cell(cell, silent=\u001B[38;5;28;01mTrue\u001B[39;00m, shell_futures=shell_futures)\n\u001B[32m   2994\u001B[39m \u001B[38;5;28;01mif\u001B[39;00m raise_exceptions:\n\u001B[32m-> \u001B[39m\u001B[32m2995\u001B[39m     \u001B[43mresult\u001B[49m\u001B[43m.\u001B[49m\u001B[43mraise_error\u001B[49m\u001B[43m(\u001B[49m\u001B[43m)\u001B[49m\n\u001B[32m   2996\u001B[39m \u001B[38;5;28;01melif\u001B[39;00m \u001B[38;5;129;01mnot\u001B[39;00m result.success:\n\u001B[32m   2997\u001B[39m     \u001B[38;5;28;01mbreak\u001B[39;00m\n",
      "\u001B[36mFile \u001B[39m\u001B[32mD:\\development\\python\\KaggleComfyUI\\.venv\\Lib\\site-packages\\IPython\\core\\interactiveshell.py:326\u001B[39m, in \u001B[36mExecutionResult.raise_error\u001B[39m\u001B[34m(self)\u001B[39m\n\u001B[32m    324\u001B[39m     \u001B[38;5;28;01mraise\u001B[39;00m \u001B[38;5;28mself\u001B[39m.error_before_exec\n\u001B[32m    325\u001B[39m \u001B[38;5;28;01mif\u001B[39;00m \u001B[38;5;28mself\u001B[39m.error_in_exec \u001B[38;5;129;01mis\u001B[39;00m \u001B[38;5;129;01mnot\u001B[39;00m \u001B[38;5;28;01mNone\u001B[39;00m:\n\u001B[32m--> \u001B[39m\u001B[32m326\u001B[39m     \u001B[38;5;28;01mraise\u001B[39;00m \u001B[38;5;28mself\u001B[39m.error_in_exec\n",
      "    \u001B[31m[... skipping hidden 1 frame]\u001B[39m\n",
      "\u001B[36mFile \u001B[39m\u001B[32m~\\AppData\\Local\\Temp\\ipykernel_27824\\2152758806.py:5\u001B[39m\n\u001B[32m      2\u001B[39m root_dir = \u001B[33m\"\u001B[39m\u001B[33m/kaggle/working/comfy-notebook/notebook/kaggle\u001B[39m\u001B[33m\"\u001B[39m\n\u001B[32m      4\u001B[39m \u001B[38;5;66;03m# For updating Python to the latest\u001B[39;00m\n\u001B[32m----> \u001B[39m\u001B[32m5\u001B[39m \u001B[43mget_ipython\u001B[49m\u001B[43m(\u001B[49m\u001B[43m)\u001B[49m\u001B[43m.\u001B[49m\u001B[43mrun_line_magic\u001B[49m\u001B[43m(\u001B[49m\u001B[33;43m'\u001B[39;49m\u001B[33;43mrun\u001B[39;49m\u001B[33;43m'\u001B[39;49m\u001B[43m,\u001B[49m\u001B[43m \u001B[49m\u001B[33;43m'\u001B[39;49m\u001B[38;5;132;43;01m{root_dir}\u001B[39;49;00m\u001B[33;43m/setup/python3.ipynb\u001B[39;49m\u001B[33;43m'\u001B[39;49m\u001B[43m)\u001B[49m\n\u001B[32m      6\u001B[39m \u001B[38;5;66;03m# Installing File manager\u001B[39;00m\n\u001B[32m      7\u001B[39m get_ipython().run_line_magic(\u001B[33m'\u001B[39m\u001B[33mrun\u001B[39m\u001B[33m'\u001B[39m, \u001B[33m'\u001B[39m\u001B[38;5;132;01m{root_dir}\u001B[39;00m\u001B[33m/setup/file-manager.ipynb\u001B[39m\u001B[33m'\u001B[39m)\n",
      "\u001B[36mFile \u001B[39m\u001B[32mD:\\development\\python\\KaggleComfyUI\\.venv\\Lib\\site-packages\\IPython\\core\\interactiveshell.py:2504\u001B[39m, in \u001B[36mInteractiveShell.run_line_magic\u001B[39m\u001B[34m(self, magic_name, line, _stack_depth)\u001B[39m\n\u001B[32m   2502\u001B[39m     kwargs[\u001B[33m'\u001B[39m\u001B[33mlocal_ns\u001B[39m\u001B[33m'\u001B[39m] = \u001B[38;5;28mself\u001B[39m.get_local_scope(stack_depth)\n\u001B[32m   2503\u001B[39m \u001B[38;5;28;01mwith\u001B[39;00m \u001B[38;5;28mself\u001B[39m.builtin_trap:\n\u001B[32m-> \u001B[39m\u001B[32m2504\u001B[39m     result = \u001B[43mfn\u001B[49m\u001B[43m(\u001B[49m\u001B[43m*\u001B[49m\u001B[43margs\u001B[49m\u001B[43m,\u001B[49m\u001B[43m \u001B[49m\u001B[43m*\u001B[49m\u001B[43m*\u001B[49m\u001B[43mkwargs\u001B[49m\u001B[43m)\u001B[49m\n\u001B[32m   2506\u001B[39m \u001B[38;5;66;03m# The code below prevents the output from being displayed\u001B[39;00m\n\u001B[32m   2507\u001B[39m \u001B[38;5;66;03m# when using magics with decorator @output_can_be_silenced\u001B[39;00m\n\u001B[32m   2508\u001B[39m \u001B[38;5;66;03m# when the last Python token in the expression is a ';'.\u001B[39;00m\n\u001B[32m   2509\u001B[39m \u001B[38;5;28;01mif\u001B[39;00m \u001B[38;5;28mgetattr\u001B[39m(fn, magic.MAGIC_OUTPUT_CAN_BE_SILENCED, \u001B[38;5;28;01mFalse\u001B[39;00m):\n",
      "\u001B[36mFile \u001B[39m\u001B[32mD:\\development\\python\\KaggleComfyUI\\.venv\\Lib\\site-packages\\IPython\\core\\magics\\execution.py:739\u001B[39m, in \u001B[36mExecutionMagics.run\u001B[39m\u001B[34m(self, parameter_s, runner, file_finder)\u001B[39m\n\u001B[32m    737\u001B[39m     \u001B[38;5;28;01mif\u001B[39;00m os.name == \u001B[33m'\u001B[39m\u001B[33mnt\u001B[39m\u001B[33m'\u001B[39m \u001B[38;5;129;01mand\u001B[39;00m re.match(\u001B[33mr\u001B[39m\u001B[33m\"\u001B[39m\u001B[33m^\u001B[39m\u001B[33m'\u001B[39m\u001B[33m.*\u001B[39m\u001B[33m'\u001B[39m\u001B[33m$\u001B[39m\u001B[33m\"\u001B[39m,fpath):\n\u001B[32m    738\u001B[39m         warn(\u001B[33m'\u001B[39m\u001B[33mFor Windows, use double quotes to wrap a filename: \u001B[39m\u001B[38;5;132;01m%r\u001B[39;00m\u001B[33mun \u001B[39m\u001B[33m\"\u001B[39m\u001B[33mmypath\u001B[39m\u001B[38;5;130;01m\\\\\u001B[39;00m\u001B[33mmyfile.py\u001B[39m\u001B[33m\"\u001B[39m\u001B[33m'\u001B[39m)\n\u001B[32m--> \u001B[39m\u001B[32m739\u001B[39m     \u001B[38;5;28;01mraise\u001B[39;00m \u001B[38;5;167;01mException\u001B[39;00m(msg) \u001B[38;5;28;01mfrom\u001B[39;00m\u001B[38;5;250m \u001B[39m\u001B[34;01me\u001B[39;00m\n\u001B[32m    740\u001B[39m \u001B[38;5;28;01mexcept\u001B[39;00m \u001B[38;5;167;01mTypeError\u001B[39;00m:\n\u001B[32m    741\u001B[39m     \u001B[38;5;28;01mif\u001B[39;00m fpath \u001B[38;5;129;01min\u001B[39;00m sys.meta_path:\n",
      "\u001B[31mException\u001B[39m: File `'/kaggle/working/comfy-notebook/notebook/kaggle/setup/python3.ipynb'` not found."
     ]
    }
   ],
   "execution_count": 4
  },
  {
   "metadata": {},
   "cell_type": "code",
   "outputs": [],
   "execution_count": null,
   "source": [
    "# For Running ComfyUI\n",
    "%cd {working_dir}\n",
    "!python pinggy.py --command=f'{python} {working_dir}/ComfyUI/main.py' --port=8188"
   ],
   "id": "62bad03eee622179"
  }
 ],
 "metadata": {
  "kernelspec": {
   "display_name": "Python 3",
   "language": "python",
   "name": "python3"
  },
  "language_info": {
   "codemirror_mode": {
    "name": "ipython",
    "version": 2
   },
   "file_extension": ".py",
   "mimetype": "text/x-python",
   "name": "python",
   "nbconvert_exporter": "python",
   "pygments_lexer": "ipython2",
   "version": "2.7.6"
  }
 },
 "nbformat": 4,
 "nbformat_minor": 5
}
