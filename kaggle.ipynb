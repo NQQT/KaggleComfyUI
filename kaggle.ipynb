{
 "cells": [
  {
   "cell_type": "code",
   "id": "initial_id",
   "metadata": {
    "collapsed": true
   },
   "source": [
    "# Configuration Values\n",
    "api_token = \"813701a486b32b80542dd5606dd8efdf\"\n",
    "working_dir = \"/kaggle/working\"\n",
    "\n",
    "# Remove\n",
    "%cd {working_dir}\n",
    "!rm -rf comfy-notebook\n",
    "# Running Comfy Setup\n",
    "!git clone https://github.com/NQQT/comfy-notebook.git\n",
    "%run comfy-notebook/notebook/kaggle/initiate_kaggle.ipynb\n",
    "\n",
    "# download_checkpoints(\"CyberRealisticCatalyst\",\"1899516\")\n",
    "# download_checkpoints(\"RealismYogiV5\",\"1883050\")\n",
    "# download_checkpoints(\"PonyRealism\",\"1920896\")\n",
    "# download_checkpoints(\"RealismIllustriousYogiV5\",\"1906686\")\n",
    "\n",
    "# For Illustrious\n",
    "download_lora(\"AgeSlider\",\"448977\")\n",
    "download_lora(\"CInMouth\",\"1909950\")\n",
    "download_lora(\"RealisticC\",\"1629360\")\n",
    "\n",
    "# Character\n",
    "download_lora_direct(\"AnLav\",\"https://huggingface.co/minaiosu/H3ll99/resolve/main/Avril_Lavigne_-_IL_XL.safetensors\")\n",
    "\n",
    "# For installing comfyUI\n",
    "%run {root_dir}/setup/frame-pack.ipynb"
   ],
   "outputs": [],
   "execution_count": null
  },
  {
   "metadata": {},
   "cell_type": "code",
   "outputs": [],
   "execution_count": null,
   "source": [
    "# For Running ComfyUI\n",
    "!python /kaggle/working/pinggy.py --command='/kaggle/working/venv/bin/python /kaggle/working/ComfyUI/main.py' --port=8188"
   ],
   "id": "62bad03eee622179"
  }
 ],
 "metadata": {
  "kernelspec": {
   "display_name": "Python 3",
   "language": "python",
   "name": "python3"
  },
  "language_info": {
   "codemirror_mode": {
    "name": "ipython",
    "version": 2
   },
   "file_extension": ".py",
   "mimetype": "text/x-python",
   "name": "python",
   "nbconvert_exporter": "python",
   "pygments_lexer": "ipython2",
   "version": "2.7.6"
  }
 },
 "nbformat": 4,
 "nbformat_minor": 5
}
