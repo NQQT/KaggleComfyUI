{
 "cells": [
  {
   "cell_type": "code",
   "id": "initial_id",
   "metadata": {
    "collapsed": true,
    "ExecuteTime": {
     "end_time": "2025-07-28T00:00:23.015674Z",
     "start_time": "2025-07-28T00:00:20.198690Z"
    }
   },
   "source": [
    "# For logging the time, really\n",
    "%%time\n",
    "# Configuration Values\n",
    "api_token = \"813701a486b32b80542dd5606dd8efdf\"\n",
    "\n",
    "# Remove\n",
    "!rm -rf comfy-notebook\n",
    "# Running Comfy Setup\n",
    "!git clone https://github.com/NQQT/comfy-notebook.git\n",
    "%run comfy-notebook/notebook/kaggle/initiate_kaggle.ipynb"
   ],
   "outputs": [
    {
     "name": "stdout",
     "output_type": "stream",
     "text": [
      "\"working?\"\n"
     ]
    }
   ],
   "execution_count": 1
  },
  {
   "metadata": {},
   "cell_type": "code",
   "outputs": [],
   "execution_count": null,
   "source": "",
   "id": "76b75b25c9b53a8f"
  }
 ],
 "metadata": {
  "kernelspec": {
   "display_name": "Python 3",
   "language": "python",
   "name": "python3"
  },
  "language_info": {
   "codemirror_mode": {
    "name": "ipython",
    "version": 2
   },
   "file_extension": ".py",
   "mimetype": "text/x-python",
   "name": "python",
   "nbconvert_exporter": "python",
   "pygments_lexer": "ipython2",
   "version": "2.7.6"
  }
 },
 "nbformat": 4,
 "nbformat_minor": 5
}
