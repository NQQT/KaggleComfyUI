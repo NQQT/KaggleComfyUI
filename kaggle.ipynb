{
 "cells": [
  {
   "cell_type": "code",
   "id": "initial_id",
   "metadata": {
    "collapsed": true
   },
   "source": [
    "# Configuration Values\n",
    "api_token = \"813701a486b32b80542dd5606dd8efdf\"\n",
    "working_dir = \"/kaggle/working\"\n",
    "\n",
    "# Configuration\n",
    "install_ip_adapter = False\n",
    "\n",
    "# Remove\n",
    "%cd {working_dir}\n",
    "!rm -rf comfy-notebook\n",
    "# Running Comfy Setup\n",
    "!git clone https://github.com/NQQT/comfy-notebook.git\n",
    "\n",
    "# Initiate ComfyUI and all required essentials\n",
    "%run comfy-notebook/notebook/kaggle/initiate_kaggle.ipynb\n",
    "\n",
    "# Downloading PonyRealism\n",
    "download_checkpoints(\"PonyRealism\",\"1920896\")\n",
    "\n",
    "# Installing Assets\n",
    "# install_ip_adapter()\n",
    "\n",
    "# Start Configuration\n",
    "# %run {root_dir}/setup/preset/wan-t2v-gguf.ipynb\n",
    "# %run {root_dir}/setup/preset/illustrious-yogi.ipynb\n",
    "\n",
    "# Starting Tunneling Option\n",
    "# start_pinggy_tunnel()\n",
    "# start_local_tunnel()"
   ],
   "outputs": [],
   "execution_count": null
  },
  {
   "metadata": {},
   "cell_type": "code",
   "outputs": [],
   "execution_count": null,
   "source": [
    "# For Running ComfyUI\n",
    "%cd {working_dir}\n",
    "!python pinggy.py --command='/kaggle/working/venv/bin/python /kaggle/working/ComfyUI/main.py' --port=8188"
   ],
   "id": "62bad03eee622179"
  },
  {
   "metadata": {},
   "cell_type": "code",
   "outputs": [],
   "execution_count": null,
   "source": [
    "import os\n",
    "from urllib.parse import urlsplit\n",
    "# For Downloading Assets\n",
    "\n",
    "def extract_filename(url_link):\n",
    "    url_path = urlsplit(url_link)\n",
    "    return os.path.basename(url_path.path)\n",
    "\n",
    "def download_asset(asset_type,asset_url, asset_name = None):\n",
    "    # Go to the correct folder\n",
    "    %cd {working_dir}/ComfyUI/models/{asset_type}\n",
    "    # Reading the file name\n",
    "    file_name = extract_filename(asset_url)\n",
    "\n",
    "    # If asset name is not None\n",
    "    if not asset_name is None:\n",
    "        # Set it to asset name\n",
    "        file_name = asset_name\n",
    "\n",
    "    # for loading files\n",
    "    get_ipython().system(f'wget -O \"{file_name}\" \"{asset_url}\"')\n",
    "\n",
    "\n",
    "# Required Diffusion model\n",
    "download_asset(\"diffusion_models\",\"https://huggingface.co/Comfy-Org/Wan_2.2_ComfyUI_Repackaged/resolve/main/split_files/diffusion_models/wan2.2_t2v_high_noise_14B_fp8_scaled.safetensors\")\n",
    "\n",
    "download_asset(\"diffusion_models\",\"https://huggingface.co/Comfy-Org/Wan_2.2_ComfyUI_Repackaged/resolve/main/split_files/diffusion_models/wan2.2_t2v_low_noise_14B_fp8_scaled.safetensors\")\n",
    "\n",
    "download_asset(\"text_encoders\",\"https://huggingface.co/Comfy-Org/Wan_2.2_ComfyUI_Repackaged/resolve/main/split_files/text_encoders/umt5_xxl_fp8_e4m3fn_scaled.safetensors\")\n",
    "\n",
    "download_asset(\"vae\",\"https://huggingface.co/Comfy-Org/Wan_2.2_ComfyUI_Repackaged/resolve/main/split_files/vae/wan_2.1_vae.safetensors\")\n",
    "\n",
    "\n",
    "!{pip} install diffusers\n",
    "!{pip} install imageio-ffmpeg\n",
    "download_asset(\"loras\",\"https://huggingface.co/Kijai/WanVideo_comfy/resolve/main/FastWan/FastWan_T2V_14B_480p_lora_rank_128_bf16.safetensors\")\n",
    "\n",
    "download_asset(\"loras\",\"https://huggingface.co/Kijai/WanVideo_comfy/resolve/main/Lightx2v/lightx2v_T2V_14B_cfg_step_distill_v2_lora_rank32_bf16.safetensors\")"
   ],
   "id": "370c82b833253fc9"
  }
 ],
 "metadata": {
  "kernelspec": {
   "display_name": "Python 3",
   "language": "python",
   "name": "python3"
  },
  "language_info": {
   "codemirror_mode": {
    "name": "ipython",
    "version": 2
   },
   "file_extension": ".py",
   "mimetype": "text/x-python",
   "name": "python",
   "nbconvert_exporter": "python",
   "pygments_lexer": "ipython2",
   "version": "2.7.6"
  }
 },
 "nbformat": 4,
 "nbformat_minor": 5
}
