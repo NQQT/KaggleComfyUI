{
 "cells": [
  {
   "cell_type": "code",
   "id": "initial_id",
   "metadata": {
    "collapsed": true
   },
   "source": [
    "# Configuration Values\n",
    "api_token = \"813701a486b32b80542dd5606dd8efdf\"\n",
    "working_dir = \"/kaggle/working\"\n",
    "\n",
    "# Remove\n",
    "%cd {working_dir}\n",
    "!rm -rf comfy-notebook\n",
    "# Running Comfy Setup\n",
    "!git clone https://github.com/NQQT/comfy-notebook.git\n",
    "\n",
    "# Initiate ComfyUI and all required essentials\n",
    "%run comfy-notebook/notebook/kaggle/initiate_kaggle.ipynb\n",
    "\n",
    "# Start Configuration\n",
    "# %run {root_dir}/setup/preset/wan-t2v-gguf.ipynb\n",
    "# %run {root_dir}/setup/preset/illustrious-yogi.ipynb"
   ],
   "outputs": [],
   "execution_count": null
  },
  {
   "metadata": {},
   "cell_type": "code",
   "outputs": [],
   "execution_count": null,
   "source": [
    "# For Running ComfyUI\n",
    "%cd {working_dir}\n",
    "!python pinggy.py --command='/kaggle/working/venv/bin/python /kaggle/working/ComfyUI/main.py' --port=8188"
   ],
   "id": "62bad03eee622179"
  },
  {
   "metadata": {},
   "cell_type": "code",
   "outputs": [],
   "execution_count": null,
   "source": [
    "# For setting up IP Adapter\n",
    "git_custom_node(\"https://github.com/cubiq/ComfyUI_IPAdapter_plus\")\n",
    "\n",
    "# Need to install the clip vision\n",
    "download_asset(\"clip_vision\",\"https://huggingface.co/h94/IP-Adapter/resolve/main/models/image_encoder/model.safetensors\",\"CLIP-ViT-H-14-laion2B-s32B-b79K.safetensors\")\n",
    "\n",
    "download_asset(\"clip_vision\",\"https://huggingface.co/h94/IP-Adapter/resolve/main/sdxl_models/image_encoder/model.safetensors\",\"CLIP-ViT-bigG-14-laion2B-39B-b160k.safetensors\")\n",
    "\n",
    "# Need to install ipdapter models\n",
    "download_asset(\"ipadapter\",\"https://huggingface.co/h94/IP-Adapter/resolve/main/sdxl_models/ip-adapter_sdxl_vit-h.safetensors\")\n",
    "download_asset(\"ipadapter\",\"https://huggingface.co/h94/IP-Adapter/resolve/main/sdxl_models/ip-adapter-plus_sdxl_vit-h.safetensors\")\n",
    "download_asset(\"ipadapter\",\"https://huggingface.co/h94/IP-Adapter/resolve/main/sdxl_models/ip-adapter-plus-face_sdxl_vit-h.safetensors\")\n",
    "download_asset(\"ipadapter\",\"https://huggingface.co/h94/IP-Adapter/resolve/main/sdxl_models/ip-adapter_sdxl.safetensors\")\n",
    "\n",
    "\n",
    "download_asset(\"ipadapter\",\"https://huggingface.co/h94/IP-Adapter-FaceID/resolve/main/ip-adapter-faceid_sdxl.bin\")\n",
    "download_asset(\"ipadapter\",\"https://huggingface.co/h94/IP-Adapter-FaceID/resolve/main/ip-adapter-faceid-plusv2_sdxl.bin\")\n",
    "download_asset(\"ipadapter\",\"https://huggingface.co/h94/IP-Adapter-FaceID/resolve/main/ip-adapter-faceid-portrait_sdxl.bin\")\n",
    "download_asset(\"ipadapter\",\"https://huggingface.co/h94/IP-Adapter-FaceID/resolve/main/ip-adapter-faceid-portrait_sdxl_unnorm.bin\")"
   ],
   "id": "aa041ac5011ea20e"
  }
 ],
 "metadata": {
  "kernelspec": {
   "display_name": "Python 3",
   "language": "python",
   "name": "python3"
  },
  "language_info": {
   "codemirror_mode": {
    "name": "ipython",
    "version": 2
   },
   "file_extension": ".py",
   "mimetype": "text/x-python",
   "name": "python",
   "nbconvert_exporter": "python",
   "pygments_lexer": "ipython2",
   "version": "2.7.6"
  }
 },
 "nbformat": 4,
 "nbformat_minor": 5
}
